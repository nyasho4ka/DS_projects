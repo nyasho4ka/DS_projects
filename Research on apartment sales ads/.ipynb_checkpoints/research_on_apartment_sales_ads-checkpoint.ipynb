{
 "cells": [
  {
   "cell_type": "markdown",
   "metadata": {},
   "source": [
    "# Research on apartment sales ads\n",
    "\n",
    "You will have the data from a real estate agency. It is an archive of sales ads for realty in St. Petersburg, Russia, and the surrounding areas collected over the past few years. You’ll need to learn how to determine the market value of real estate properties. Your task is to define the parameters. This will make it possible to build an automated system that is capable of detecting anomalies and fraudulent activity.\n",
    "\n",
    "There are two different types of data available for every apartment for sale. The first type is a user’s input. The second type is received automatically based upon the map data. For example, the distance from the city center, airport, the nearest park or body of water. "
   ]
  },
  {
   "cell_type": "markdown",
   "metadata": {},
   "source": [
    "### Step 1. Open the data file and study the general information. "
   ]
  },
  {
   "cell_type": "code",
   "execution_count": 1,
   "metadata": {},
   "outputs": [],
   "source": [
    "import matplotlib.pyplot as plt"
   ]
  },
  {
   "cell_type": "code",
   "execution_count": 2,
   "metadata": {
    "scrolled": false
   },
   "outputs": [
    {
     "name": "stdout",
     "output_type": "stream",
     "text": [
      "<class 'pandas.core.frame.DataFrame'>\n",
      "RangeIndex: 23699 entries, 0 to 23698\n",
      "Data columns (total 22 columns):\n",
      "date_posted          23699 non-null object\n",
      "days_listed          20518 non-null float64\n",
      "last_price           23699 non-null float64\n",
      "bedrooms             23699 non-null int64\n",
      "kitchen_area         21421 non-null float64\n",
      "living_area          21796 non-null float64\n",
      "total_area           23699 non-null float64\n",
      "balconies            12180 non-null float64\n",
      "ceiling_height       14504 non-null float64\n",
      "floors_total         23613 non-null float64\n",
      "floor                23699 non-null int64\n",
      "total_images         23699 non-null int64\n",
      "bike_parking         2775 non-null object\n",
      "is_studio            23699 non-null bool\n",
      "is_open_plan         23699 non-null bool\n",
      "locality_name        23650 non-null object\n",
      "airport_dist         18157 non-null float64\n",
      "city_center_dist     18180 non-null float64\n",
      "park_dist            8079 non-null float64\n",
      "parks_within_3000    18181 non-null float64\n",
      "pond_dist            9110 non-null float64\n",
      "ponds_within_3000    18181 non-null float64\n",
      "dtypes: bool(2), float64(14), int64(3), object(3)\n",
      "memory usage: 3.7+ MB\n"
     ]
    }
   ],
   "source": [
    "import pandas as pd\n",
    "\n",
    "df = pd.read_csv('/datasets/real_estate_data_us.csv', sep='\\t')\n",
    "df.info()"
   ]
  },
  {
   "cell_type": "code",
   "execution_count": 3,
   "metadata": {},
   "outputs": [
    {
     "data": {
      "text/html": [
       "<div>\n",
       "<style scoped>\n",
       "    .dataframe tbody tr th:only-of-type {\n",
       "        vertical-align: middle;\n",
       "    }\n",
       "\n",
       "    .dataframe tbody tr th {\n",
       "        vertical-align: top;\n",
       "    }\n",
       "\n",
       "    .dataframe thead th {\n",
       "        text-align: right;\n",
       "    }\n",
       "</style>\n",
       "<table border=\"1\" class=\"dataframe\">\n",
       "  <thead>\n",
       "    <tr style=\"text-align: right;\">\n",
       "      <th></th>\n",
       "      <th>date_posted</th>\n",
       "      <th>days_listed</th>\n",
       "      <th>last_price</th>\n",
       "      <th>bedrooms</th>\n",
       "      <th>kitchen_area</th>\n",
       "      <th>living_area</th>\n",
       "      <th>total_area</th>\n",
       "      <th>balconies</th>\n",
       "      <th>ceiling_height</th>\n",
       "      <th>floors_total</th>\n",
       "      <th>...</th>\n",
       "      <th>bike_parking</th>\n",
       "      <th>is_studio</th>\n",
       "      <th>is_open_plan</th>\n",
       "      <th>locality_name</th>\n",
       "      <th>airport_dist</th>\n",
       "      <th>city_center_dist</th>\n",
       "      <th>park_dist</th>\n",
       "      <th>parks_within_3000</th>\n",
       "      <th>pond_dist</th>\n",
       "      <th>ponds_within_3000</th>\n",
       "    </tr>\n",
       "  </thead>\n",
       "  <tbody>\n",
       "    <tr>\n",
       "      <td>0</td>\n",
       "      <td>2019-03-07T00:00:00</td>\n",
       "      <td>NaN</td>\n",
       "      <td>260000.0</td>\n",
       "      <td>3</td>\n",
       "      <td>25.0</td>\n",
       "      <td>51.0</td>\n",
       "      <td>108.0</td>\n",
       "      <td>NaN</td>\n",
       "      <td>2.70</td>\n",
       "      <td>16.0</td>\n",
       "      <td>...</td>\n",
       "      <td>NaN</td>\n",
       "      <td>False</td>\n",
       "      <td>False</td>\n",
       "      <td>Saint Petersburg</td>\n",
       "      <td>18863.0</td>\n",
       "      <td>16028.0</td>\n",
       "      <td>482.0</td>\n",
       "      <td>1.0</td>\n",
       "      <td>755.0</td>\n",
       "      <td>2.0</td>\n",
       "    </tr>\n",
       "    <tr>\n",
       "      <td>1</td>\n",
       "      <td>2018-12-04T00:00:00</td>\n",
       "      <td>81.0</td>\n",
       "      <td>67000.0</td>\n",
       "      <td>1</td>\n",
       "      <td>11.0</td>\n",
       "      <td>18.6</td>\n",
       "      <td>40.4</td>\n",
       "      <td>2.0</td>\n",
       "      <td>NaN</td>\n",
       "      <td>11.0</td>\n",
       "      <td>...</td>\n",
       "      <td>NaN</td>\n",
       "      <td>False</td>\n",
       "      <td>False</td>\n",
       "      <td>Shushary village</td>\n",
       "      <td>12817.0</td>\n",
       "      <td>18603.0</td>\n",
       "      <td>NaN</td>\n",
       "      <td>0.0</td>\n",
       "      <td>NaN</td>\n",
       "      <td>0.0</td>\n",
       "    </tr>\n",
       "    <tr>\n",
       "      <td>2</td>\n",
       "      <td>2015-08-20T00:00:00</td>\n",
       "      <td>558.0</td>\n",
       "      <td>103920.0</td>\n",
       "      <td>2</td>\n",
       "      <td>8.3</td>\n",
       "      <td>34.3</td>\n",
       "      <td>56.0</td>\n",
       "      <td>0.0</td>\n",
       "      <td>NaN</td>\n",
       "      <td>5.0</td>\n",
       "      <td>...</td>\n",
       "      <td>NaN</td>\n",
       "      <td>False</td>\n",
       "      <td>False</td>\n",
       "      <td>Saint Petersburg</td>\n",
       "      <td>21741.0</td>\n",
       "      <td>13933.0</td>\n",
       "      <td>90.0</td>\n",
       "      <td>1.0</td>\n",
       "      <td>574.0</td>\n",
       "      <td>2.0</td>\n",
       "    </tr>\n",
       "    <tr>\n",
       "      <td>3</td>\n",
       "      <td>2015-07-24T00:00:00</td>\n",
       "      <td>424.0</td>\n",
       "      <td>1298000.0</td>\n",
       "      <td>3</td>\n",
       "      <td>NaN</td>\n",
       "      <td>NaN</td>\n",
       "      <td>159.0</td>\n",
       "      <td>0.0</td>\n",
       "      <td>NaN</td>\n",
       "      <td>14.0</td>\n",
       "      <td>...</td>\n",
       "      <td>NaN</td>\n",
       "      <td>False</td>\n",
       "      <td>False</td>\n",
       "      <td>Saint Petersburg</td>\n",
       "      <td>28098.0</td>\n",
       "      <td>6800.0</td>\n",
       "      <td>84.0</td>\n",
       "      <td>2.0</td>\n",
       "      <td>234.0</td>\n",
       "      <td>3.0</td>\n",
       "    </tr>\n",
       "    <tr>\n",
       "      <td>4</td>\n",
       "      <td>2018-06-19T00:00:00</td>\n",
       "      <td>121.0</td>\n",
       "      <td>200000.0</td>\n",
       "      <td>2</td>\n",
       "      <td>41.0</td>\n",
       "      <td>32.0</td>\n",
       "      <td>100.0</td>\n",
       "      <td>NaN</td>\n",
       "      <td>3.03</td>\n",
       "      <td>14.0</td>\n",
       "      <td>...</td>\n",
       "      <td>NaN</td>\n",
       "      <td>False</td>\n",
       "      <td>False</td>\n",
       "      <td>Saint Petersburg</td>\n",
       "      <td>31856.0</td>\n",
       "      <td>8098.0</td>\n",
       "      <td>112.0</td>\n",
       "      <td>2.0</td>\n",
       "      <td>48.0</td>\n",
       "      <td>1.0</td>\n",
       "    </tr>\n",
       "  </tbody>\n",
       "</table>\n",
       "<p>5 rows × 22 columns</p>\n",
       "</div>"
      ],
      "text/plain": [
       "           date_posted  days_listed  last_price  bedrooms  kitchen_area  \\\n",
       "0  2019-03-07T00:00:00          NaN    260000.0         3          25.0   \n",
       "1  2018-12-04T00:00:00         81.0     67000.0         1          11.0   \n",
       "2  2015-08-20T00:00:00        558.0    103920.0         2           8.3   \n",
       "3  2015-07-24T00:00:00        424.0   1298000.0         3           NaN   \n",
       "4  2018-06-19T00:00:00        121.0    200000.0         2          41.0   \n",
       "\n",
       "   living_area  total_area  balconies  ceiling_height  floors_total  ...  \\\n",
       "0         51.0       108.0        NaN            2.70          16.0  ...   \n",
       "1         18.6        40.4        2.0             NaN          11.0  ...   \n",
       "2         34.3        56.0        0.0             NaN           5.0  ...   \n",
       "3          NaN       159.0        0.0             NaN          14.0  ...   \n",
       "4         32.0       100.0        NaN            3.03          14.0  ...   \n",
       "\n",
       "   bike_parking  is_studio is_open_plan     locality_name  airport_dist  \\\n",
       "0           NaN      False        False  Saint Petersburg       18863.0   \n",
       "1           NaN      False        False  Shushary village       12817.0   \n",
       "2           NaN      False        False  Saint Petersburg       21741.0   \n",
       "3           NaN      False        False  Saint Petersburg       28098.0   \n",
       "4           NaN      False        False  Saint Petersburg       31856.0   \n",
       "\n",
       "  city_center_dist  park_dist  parks_within_3000  pond_dist  ponds_within_3000  \n",
       "0          16028.0      482.0                1.0      755.0                2.0  \n",
       "1          18603.0        NaN                0.0        NaN                0.0  \n",
       "2          13933.0       90.0                1.0      574.0                2.0  \n",
       "3           6800.0       84.0                2.0      234.0                3.0  \n",
       "4           8098.0      112.0                2.0       48.0                1.0  \n",
       "\n",
       "[5 rows x 22 columns]"
      ]
     },
     "execution_count": 3,
     "metadata": {},
     "output_type": "execute_result"
    }
   ],
   "source": [
    "df.head()"
   ]
  },
  {
   "cell_type": "markdown",
   "metadata": {},
   "source": [
    "### Conclusion\n",
    "\n",
    "**Columns:**\n",
    "There are 22 columns with other data types: bool, string, float and int. \n",
    "\n",
    "**Missing Values:**\n",
    "Of the 22 columns, 14 have missing columns. It could be caused by different reasons: human factor, default values, etc.\n",
    "\n",
    "1. Something strange is in the bike_parking column because of NaN values. It has a bool type and may be NaN means False.\n",
    "\n",
    "2. Also the fourth row is strange because of NaN values in the kitchen_area and the living_area column and it's not a studio or an open plan flat. May be this is due to the fact that it's a room instead of a flat. But at the same time the total_area is 159 meters per square.\n",
    "\n",
    "3. In the first row there is a missing value in the days_listed column. I suppose that this ad is not removed yet. But at the same time there is no any missing value in the last_price column so it tells us that there is no any open ads."
   ]
  },
  {
   "cell_type": "markdown",
   "metadata": {},
   "source": [
    "### Step 2. Data preprocessing"
   ]
  },
  {
   "cell_type": "markdown",
   "metadata": {},
   "source": [
    "To identify and processing missing values let's calculate how many missing values do we have in every column"
   ]
  },
  {
   "cell_type": "code",
   "execution_count": 4,
   "metadata": {},
   "outputs": [],
   "source": [
    "def get_null_columns(df):\n",
    "    return [column for column in df.columns if df[column].isnull().values.any()]\n",
    "\n",
    "def print_null_columns(columns_with_null):\n",
    "    for column in columns_with_null:\n",
    "        print('{} - {} - {}'.format(column, df[df[column].isnull()].shape[0], df[column].dtype))"
   ]
  },
  {
   "cell_type": "code",
   "execution_count": 5,
   "metadata": {},
   "outputs": [
    {
     "name": "stdout",
     "output_type": "stream",
     "text": [
      "days_listed - 3181 - float64\n",
      "kitchen_area - 2278 - float64\n",
      "living_area - 1903 - float64\n",
      "balconies - 11519 - float64\n",
      "ceiling_height - 9195 - float64\n",
      "floors_total - 86 - float64\n",
      "bike_parking - 20924 - object\n",
      "locality_name - 49 - object\n",
      "airport_dist - 5542 - float64\n",
      "city_center_dist - 5519 - float64\n",
      "park_dist - 15620 - float64\n",
      "parks_within_3000 - 5518 - float64\n",
      "pond_dist - 14589 - float64\n",
      "ponds_within_3000 - 5518 - float64\n"
     ]
    }
   ],
   "source": [
    "# Let's calculate how many missing values do we have in each column.\n",
    "# May be we can find some patterns in it\n",
    "print_null_columns(get_null_columns(df))"
   ]
  },
  {
   "cell_type": "markdown",
   "metadata": {},
   "source": [
    "Now let's try to explain why there are missing values in the columns:\n",
    "\n",
    "**days_listed** - Suppose that it can be still open ads or may be ads have been closed almost instantly - **MAR**\n",
    "\n",
    "**kitchen_area** - suppose it can be in a studio or an open plan flat or may be the ads is not about a flat but about a room - **MAR**\n",
    "\n",
    "**living_area** - the same but also may be there are some studio or open plan flats and the living_area is equal to the total_area - **MAR**\n",
    "\n",
    "**balconies** - null values might mean that there is no any balcony in the flat - **MAR**\n",
    "\n",
    "**ceiling_height** - suppose that it's not informative feature for the most of flats. Suppose that landlords usually indicate it if the flat has not the standard value of it - **MNAR**\n",
    "\n",
    "**floors_total** - it also can be not so informative feature, because there is no any missing value in the floor column. It doesn't matter how many floors do the building have. More important which floor is yours. But it probably means that it's one-floor buildings. But we can't assume it - **MNAR**\n",
    "\n",
    "**bike_parking** - we have a lot of missing values in the column, so probably NaN values mean that there is no bike parking in the flat's building - **MNAR**\n",
    "\n",
    "**locality_name** - there are a little missing values, so i suppose it could be caused just random user's mistake - **MCAR**\n",
    "\n",
    "**airport_dist** - suppose that there may be flats from the countryside or may be landlord has thought that it's not so important information - **MAR**\n",
    "\n",
    "**city_center_dist** - the same reasons as the airport_dist - **MAR**\n",
    "\n",
    "**park_dist** - suppose that there are so many NaN values because of the parks_within_3000 column have 0 values in the rows and so the only way to specify the park_dist column is the NaN value - **MAR**\n",
    "\n",
    "**parks_within_3000** - the same reasons as the airport_dist - **MAR**\n",
    "\n",
    "**pond_dist** - the same reasons as the park_dist - **MAR**\n",
    "\n",
    "**ponds_within_3000** - the same reasons as the airport dist - **MAR**"
   ]
  },
  {
   "cell_type": "markdown",
   "metadata": {},
   "source": [
    "### Locality name dropping\n",
    "\n",
    "We have only 49 rows with missing values in the locality_name row. I suppose we can deal some assumption about where these flats came from, may be we can find the nearest neighbors on the price column. But we have only 49 these, so I suppose that it will not reflect on our distribution and I'll drop it."
   ]
  },
  {
   "cell_type": "code",
   "execution_count": 6,
   "metadata": {},
   "outputs": [
    {
     "data": {
      "text/plain": [
       "0"
      ]
     },
     "execution_count": 6,
     "metadata": {},
     "output_type": "execute_result"
    }
   ],
   "source": [
    "# I save my dataframe in other variable\n",
    "df_with_saved_locality = df.copy()\n",
    "df = df.dropna(subset=['locality_name'])\n",
    "df[df['locality_name'].isnull()].shape[0]"
   ]
  },
  {
   "cell_type": "code",
   "execution_count": 7,
   "metadata": {},
   "outputs": [],
   "source": [
    "df.reset_index(drop=True, inplace=True)"
   ]
  },
  {
   "cell_type": "code",
   "execution_count": 8,
   "metadata": {},
   "outputs": [
    {
     "name": "stdout",
     "output_type": "stream",
     "text": [
      "<class 'pandas.core.frame.DataFrame'>\n",
      "RangeIndex: 23650 entries, 0 to 23649\n",
      "Data columns (total 22 columns):\n",
      "date_posted          23650 non-null object\n",
      "days_listed          20470 non-null float64\n",
      "last_price           23650 non-null float64\n",
      "bedrooms             23650 non-null int64\n",
      "kitchen_area         21381 non-null float64\n",
      "living_area          21752 non-null float64\n",
      "total_area           23650 non-null float64\n",
      "balconies            12137 non-null float64\n",
      "ceiling_height       14490 non-null float64\n",
      "floors_total         23565 non-null float64\n",
      "floor                23650 non-null int64\n",
      "total_images         23650 non-null int64\n",
      "bike_parking         2760 non-null object\n",
      "is_studio            23650 non-null bool\n",
      "is_open_plan         23650 non-null bool\n",
      "locality_name        23650 non-null object\n",
      "airport_dist         18116 non-null float64\n",
      "city_center_dist     18139 non-null float64\n",
      "park_dist            8064 non-null float64\n",
      "parks_within_3000    18140 non-null float64\n",
      "pond_dist            9085 non-null float64\n",
      "ponds_within_3000    18140 non-null float64\n",
      "dtypes: bool(2), float64(14), int64(3), object(3)\n",
      "memory usage: 3.7+ MB\n"
     ]
    }
   ],
   "source": [
    "df.info()"
   ]
  },
  {
   "cell_type": "code",
   "execution_count": 9,
   "metadata": {},
   "outputs": [
    {
     "name": "stdout",
     "output_type": "stream",
     "text": [
      "days_listed - 3180 - float64\n",
      "kitchen_area - 2269 - float64\n",
      "living_area - 1898 - float64\n",
      "balconies - 11513 - float64\n",
      "ceiling_height - 9160 - float64\n",
      "floors_total - 85 - float64\n",
      "bike_parking - 20890 - object\n",
      "airport_dist - 5534 - float64\n",
      "city_center_dist - 5511 - float64\n",
      "park_dist - 15586 - float64\n",
      "parks_within_3000 - 5510 - float64\n",
      "pond_dist - 14565 - float64\n",
      "ponds_within_3000 - 5510 - float64\n"
     ]
    }
   ],
   "source": [
    "print_null_columns(get_null_columns(df))"
   ]
  },
  {
   "cell_type": "markdown",
   "metadata": {},
   "source": [
    "### Countryside assumption"
   ]
  },
  {
   "cell_type": "markdown",
   "metadata": {},
   "source": [
    "We see that the number of missing values in the airport_dist, the park_within_3000, the ponds_within_3000 and the city_center_dist columns is approximately equal.\n",
    "\n",
    "I suppose that the flats in these ads are not right in Saint Petersburg, so let's check it"
   ]
  },
  {
   "cell_type": "code",
   "execution_count": 10,
   "metadata": {},
   "outputs": [],
   "source": [
    "not_in_the_city = df.query('parks_within_3000.isnull() \\\n",
    "         and ponds_within_3000.isnull() \\\n",
    "         and city_center_dist.isnull() \\\n",
    "         and airport_dist.isnull()\\\n",
    "         and locality_name != \"Saint Petersburg\"').copy()"
   ]
  },
  {
   "cell_type": "code",
   "execution_count": 11,
   "metadata": {},
   "outputs": [
    {
     "data": {
      "text/html": [
       "<div>\n",
       "<style scoped>\n",
       "    .dataframe tbody tr th:only-of-type {\n",
       "        vertical-align: middle;\n",
       "    }\n",
       "\n",
       "    .dataframe tbody tr th {\n",
       "        vertical-align: top;\n",
       "    }\n",
       "\n",
       "    .dataframe thead th {\n",
       "        text-align: right;\n",
       "    }\n",
       "</style>\n",
       "<table border=\"1\" class=\"dataframe\">\n",
       "  <thead>\n",
       "    <tr style=\"text-align: right;\">\n",
       "      <th></th>\n",
       "      <th>date_posted</th>\n",
       "      <th>days_listed</th>\n",
       "      <th>last_price</th>\n",
       "      <th>bedrooms</th>\n",
       "      <th>kitchen_area</th>\n",
       "      <th>living_area</th>\n",
       "      <th>total_area</th>\n",
       "      <th>balconies</th>\n",
       "      <th>ceiling_height</th>\n",
       "      <th>floors_total</th>\n",
       "      <th>...</th>\n",
       "      <th>bike_parking</th>\n",
       "      <th>is_studio</th>\n",
       "      <th>is_open_plan</th>\n",
       "      <th>locality_name</th>\n",
       "      <th>airport_dist</th>\n",
       "      <th>city_center_dist</th>\n",
       "      <th>park_dist</th>\n",
       "      <th>parks_within_3000</th>\n",
       "      <th>pond_dist</th>\n",
       "      <th>ponds_within_3000</th>\n",
       "    </tr>\n",
       "  </thead>\n",
       "  <tbody>\n",
       "    <tr>\n",
       "      <td>5</td>\n",
       "      <td>2018-09-10T00:00:00</td>\n",
       "      <td>55.0</td>\n",
       "      <td>57800.0</td>\n",
       "      <td>1</td>\n",
       "      <td>9.10</td>\n",
       "      <td>14.40</td>\n",
       "      <td>30.40</td>\n",
       "      <td>NaN</td>\n",
       "      <td>NaN</td>\n",
       "      <td>12.0</td>\n",
       "      <td>...</td>\n",
       "      <td>NaN</td>\n",
       "      <td>False</td>\n",
       "      <td>False</td>\n",
       "      <td>Yanino-1 village</td>\n",
       "      <td>NaN</td>\n",
       "      <td>NaN</td>\n",
       "      <td>NaN</td>\n",
       "      <td>NaN</td>\n",
       "      <td>NaN</td>\n",
       "      <td>NaN</td>\n",
       "    </tr>\n",
       "    <tr>\n",
       "      <td>8</td>\n",
       "      <td>2018-05-23T00:00:00</td>\n",
       "      <td>189.0</td>\n",
       "      <td>58000.0</td>\n",
       "      <td>1</td>\n",
       "      <td>8.81</td>\n",
       "      <td>15.43</td>\n",
       "      <td>33.16</td>\n",
       "      <td>NaN</td>\n",
       "      <td>NaN</td>\n",
       "      <td>27.0</td>\n",
       "      <td>...</td>\n",
       "      <td>NaN</td>\n",
       "      <td>False</td>\n",
       "      <td>False</td>\n",
       "      <td>Murino village</td>\n",
       "      <td>NaN</td>\n",
       "      <td>NaN</td>\n",
       "      <td>NaN</td>\n",
       "      <td>NaN</td>\n",
       "      <td>NaN</td>\n",
       "      <td>NaN</td>\n",
       "    </tr>\n",
       "    <tr>\n",
       "      <td>12</td>\n",
       "      <td>2016-06-30T00:00:00</td>\n",
       "      <td>90.0</td>\n",
       "      <td>77800.0</td>\n",
       "      <td>2</td>\n",
       "      <td>9.00</td>\n",
       "      <td>30.00</td>\n",
       "      <td>54.00</td>\n",
       "      <td>0.0</td>\n",
       "      <td>NaN</td>\n",
       "      <td>5.0</td>\n",
       "      <td>...</td>\n",
       "      <td>NaN</td>\n",
       "      <td>False</td>\n",
       "      <td>False</td>\n",
       "      <td>Sertolovo</td>\n",
       "      <td>NaN</td>\n",
       "      <td>NaN</td>\n",
       "      <td>NaN</td>\n",
       "      <td>NaN</td>\n",
       "      <td>NaN</td>\n",
       "      <td>NaN</td>\n",
       "    </tr>\n",
       "    <tr>\n",
       "      <td>22</td>\n",
       "      <td>2017-04-24T00:00:00</td>\n",
       "      <td>60.0</td>\n",
       "      <td>100000.0</td>\n",
       "      <td>2</td>\n",
       "      <td>11.00</td>\n",
       "      <td>30.00</td>\n",
       "      <td>58.00</td>\n",
       "      <td>2.0</td>\n",
       "      <td>2.75</td>\n",
       "      <td>25.0</td>\n",
       "      <td>...</td>\n",
       "      <td>NaN</td>\n",
       "      <td>False</td>\n",
       "      <td>False</td>\n",
       "      <td>Kudrovo village</td>\n",
       "      <td>NaN</td>\n",
       "      <td>NaN</td>\n",
       "      <td>NaN</td>\n",
       "      <td>NaN</td>\n",
       "      <td>NaN</td>\n",
       "      <td>NaN</td>\n",
       "    </tr>\n",
       "    <tr>\n",
       "      <td>30</td>\n",
       "      <td>2018-02-19T00:00:00</td>\n",
       "      <td>63.0</td>\n",
       "      <td>44000.0</td>\n",
       "      <td>1</td>\n",
       "      <td>NaN</td>\n",
       "      <td>NaN</td>\n",
       "      <td>32.80</td>\n",
       "      <td>NaN</td>\n",
       "      <td>NaN</td>\n",
       "      <td>9.0</td>\n",
       "      <td>...</td>\n",
       "      <td>NaN</td>\n",
       "      <td>False</td>\n",
       "      <td>False</td>\n",
       "      <td>Kommunar</td>\n",
       "      <td>NaN</td>\n",
       "      <td>NaN</td>\n",
       "      <td>NaN</td>\n",
       "      <td>NaN</td>\n",
       "      <td>NaN</td>\n",
       "      <td>NaN</td>\n",
       "    </tr>\n",
       "  </tbody>\n",
       "</table>\n",
       "<p>5 rows × 22 columns</p>\n",
       "</div>"
      ],
      "text/plain": [
       "            date_posted  days_listed  last_price  bedrooms  kitchen_area  \\\n",
       "5   2018-09-10T00:00:00         55.0     57800.0         1          9.10   \n",
       "8   2018-05-23T00:00:00        189.0     58000.0         1          8.81   \n",
       "12  2016-06-30T00:00:00         90.0     77800.0         2          9.00   \n",
       "22  2017-04-24T00:00:00         60.0    100000.0         2         11.00   \n",
       "30  2018-02-19T00:00:00         63.0     44000.0         1           NaN   \n",
       "\n",
       "    living_area  total_area  balconies  ceiling_height  floors_total  ...  \\\n",
       "5         14.40       30.40        NaN             NaN          12.0  ...   \n",
       "8         15.43       33.16        NaN             NaN          27.0  ...   \n",
       "12        30.00       54.00        0.0             NaN           5.0  ...   \n",
       "22        30.00       58.00        2.0            2.75          25.0  ...   \n",
       "30          NaN       32.80        NaN             NaN           9.0  ...   \n",
       "\n",
       "    bike_parking  is_studio is_open_plan     locality_name  airport_dist  \\\n",
       "5            NaN      False        False  Yanino-1 village           NaN   \n",
       "8            NaN      False        False    Murino village           NaN   \n",
       "12           NaN      False        False         Sertolovo           NaN   \n",
       "22           NaN      False        False   Kudrovo village           NaN   \n",
       "30           NaN      False        False          Kommunar           NaN   \n",
       "\n",
       "   city_center_dist  park_dist  parks_within_3000  pond_dist  \\\n",
       "5               NaN        NaN                NaN        NaN   \n",
       "8               NaN        NaN                NaN        NaN   \n",
       "12              NaN        NaN                NaN        NaN   \n",
       "22              NaN        NaN                NaN        NaN   \n",
       "30              NaN        NaN                NaN        NaN   \n",
       "\n",
       "    ponds_within_3000  \n",
       "5                 NaN  \n",
       "8                 NaN  \n",
       "12                NaN  \n",
       "22                NaN  \n",
       "30                NaN  \n",
       "\n",
       "[5 rows x 22 columns]"
      ]
     },
     "execution_count": 11,
     "metadata": {},
     "output_type": "execute_result"
    }
   ],
   "source": [
    "# Let's see at the head of our query\n",
    "not_in_the_city.head()"
   ]
  },
  {
   "cell_type": "code",
   "execution_count": 12,
   "metadata": {
    "scrolled": true
   },
   "outputs": [
    {
     "data": {
      "text/plain": [
       "5449"
      ]
     },
     "execution_count": 12,
     "metadata": {},
     "output_type": "execute_result"
    }
   ],
   "source": [
    "not_in_the_city.shape[0]"
   ]
  },
  {
   "cell_type": "markdown",
   "metadata": {},
   "source": [
    "We were almost right! 98 percent of our observations with null values in the park, ponds, airport distance and city center distance are not in the Saint Petersburg\n",
    "\n",
    "Let's look at the rest rows"
   ]
  },
  {
   "cell_type": "code",
   "execution_count": 13,
   "metadata": {
    "scrolled": false
   },
   "outputs": [
    {
     "data": {
      "text/html": [
       "<div>\n",
       "<style scoped>\n",
       "    .dataframe tbody tr th:only-of-type {\n",
       "        vertical-align: middle;\n",
       "    }\n",
       "\n",
       "    .dataframe tbody tr th {\n",
       "        vertical-align: top;\n",
       "    }\n",
       "\n",
       "    .dataframe thead th {\n",
       "        text-align: right;\n",
       "    }\n",
       "</style>\n",
       "<table border=\"1\" class=\"dataframe\">\n",
       "  <thead>\n",
       "    <tr style=\"text-align: right;\">\n",
       "      <th></th>\n",
       "      <th>date_posted</th>\n",
       "      <th>days_listed</th>\n",
       "      <th>last_price</th>\n",
       "      <th>bedrooms</th>\n",
       "      <th>kitchen_area</th>\n",
       "      <th>living_area</th>\n",
       "      <th>total_area</th>\n",
       "      <th>balconies</th>\n",
       "      <th>ceiling_height</th>\n",
       "      <th>floors_total</th>\n",
       "      <th>...</th>\n",
       "      <th>bike_parking</th>\n",
       "      <th>is_studio</th>\n",
       "      <th>is_open_plan</th>\n",
       "      <th>locality_name</th>\n",
       "      <th>airport_dist</th>\n",
       "      <th>city_center_dist</th>\n",
       "      <th>park_dist</th>\n",
       "      <th>parks_within_3000</th>\n",
       "      <th>pond_dist</th>\n",
       "      <th>ponds_within_3000</th>\n",
       "    </tr>\n",
       "  </thead>\n",
       "  <tbody>\n",
       "    <tr>\n",
       "      <td>81</td>\n",
       "      <td>2018-12-27T00:00:00</td>\n",
       "      <td>NaN</td>\n",
       "      <td>218980.0</td>\n",
       "      <td>1</td>\n",
       "      <td>NaN</td>\n",
       "      <td>NaN</td>\n",
       "      <td>68.0</td>\n",
       "      <td>NaN</td>\n",
       "      <td>NaN</td>\n",
       "      <td>10.0</td>\n",
       "      <td>...</td>\n",
       "      <td>NaN</td>\n",
       "      <td>False</td>\n",
       "      <td>False</td>\n",
       "      <td>Saint Petersburg</td>\n",
       "      <td>NaN</td>\n",
       "      <td>NaN</td>\n",
       "      <td>NaN</td>\n",
       "      <td>NaN</td>\n",
       "      <td>NaN</td>\n",
       "      <td>NaN</td>\n",
       "    </tr>\n",
       "    <tr>\n",
       "      <td>593</td>\n",
       "      <td>2019-04-16T00:00:00</td>\n",
       "      <td>NaN</td>\n",
       "      <td>84000.0</td>\n",
       "      <td>1</td>\n",
       "      <td>10.1</td>\n",
       "      <td>19.8</td>\n",
       "      <td>38.3</td>\n",
       "      <td>2.0</td>\n",
       "      <td>2.6</td>\n",
       "      <td>16.0</td>\n",
       "      <td>...</td>\n",
       "      <td>NaN</td>\n",
       "      <td>False</td>\n",
       "      <td>False</td>\n",
       "      <td>Saint Petersburg</td>\n",
       "      <td>NaN</td>\n",
       "      <td>NaN</td>\n",
       "      <td>NaN</td>\n",
       "      <td>NaN</td>\n",
       "      <td>NaN</td>\n",
       "      <td>NaN</td>\n",
       "    </tr>\n",
       "    <tr>\n",
       "      <td>604</td>\n",
       "      <td>2018-12-12T00:00:00</td>\n",
       "      <td>NaN</td>\n",
       "      <td>197980.0</td>\n",
       "      <td>3</td>\n",
       "      <td>15.0</td>\n",
       "      <td>62.0</td>\n",
       "      <td>101.0</td>\n",
       "      <td>NaN</td>\n",
       "      <td>3.0</td>\n",
       "      <td>5.0</td>\n",
       "      <td>...</td>\n",
       "      <td>NaN</td>\n",
       "      <td>False</td>\n",
       "      <td>False</td>\n",
       "      <td>Saint Petersburg</td>\n",
       "      <td>NaN</td>\n",
       "      <td>NaN</td>\n",
       "      <td>NaN</td>\n",
       "      <td>NaN</td>\n",
       "      <td>NaN</td>\n",
       "      <td>NaN</td>\n",
       "    </tr>\n",
       "    <tr>\n",
       "      <td>742</td>\n",
       "      <td>2016-05-22T00:00:00</td>\n",
       "      <td>402.0</td>\n",
       "      <td>740000.0</td>\n",
       "      <td>3</td>\n",
       "      <td>NaN</td>\n",
       "      <td>84.0</td>\n",
       "      <td>161.0</td>\n",
       "      <td>0.0</td>\n",
       "      <td>NaN</td>\n",
       "      <td>9.0</td>\n",
       "      <td>...</td>\n",
       "      <td>NaN</td>\n",
       "      <td>False</td>\n",
       "      <td>False</td>\n",
       "      <td>Saint Petersburg</td>\n",
       "      <td>NaN</td>\n",
       "      <td>NaN</td>\n",
       "      <td>NaN</td>\n",
       "      <td>NaN</td>\n",
       "      <td>NaN</td>\n",
       "      <td>NaN</td>\n",
       "    </tr>\n",
       "    <tr>\n",
       "      <td>795</td>\n",
       "      <td>2019-02-13T00:00:00</td>\n",
       "      <td>NaN</td>\n",
       "      <td>142000.0</td>\n",
       "      <td>2</td>\n",
       "      <td>12.5</td>\n",
       "      <td>36.6</td>\n",
       "      <td>59.6</td>\n",
       "      <td>NaN</td>\n",
       "      <td>3.4</td>\n",
       "      <td>5.0</td>\n",
       "      <td>...</td>\n",
       "      <td>NaN</td>\n",
       "      <td>False</td>\n",
       "      <td>False</td>\n",
       "      <td>Saint Petersburg</td>\n",
       "      <td>NaN</td>\n",
       "      <td>NaN</td>\n",
       "      <td>NaN</td>\n",
       "      <td>NaN</td>\n",
       "      <td>NaN</td>\n",
       "      <td>NaN</td>\n",
       "    </tr>\n",
       "  </tbody>\n",
       "</table>\n",
       "<p>5 rows × 22 columns</p>\n",
       "</div>"
      ],
      "text/plain": [
       "             date_posted  days_listed  last_price  bedrooms  kitchen_area  \\\n",
       "81   2018-12-27T00:00:00          NaN    218980.0         1           NaN   \n",
       "593  2019-04-16T00:00:00          NaN     84000.0         1          10.1   \n",
       "604  2018-12-12T00:00:00          NaN    197980.0         3          15.0   \n",
       "742  2016-05-22T00:00:00        402.0    740000.0         3           NaN   \n",
       "795  2019-02-13T00:00:00          NaN    142000.0         2          12.5   \n",
       "\n",
       "     living_area  total_area  balconies  ceiling_height  floors_total  ...  \\\n",
       "81           NaN        68.0        NaN             NaN          10.0  ...   \n",
       "593         19.8        38.3        2.0             2.6          16.0  ...   \n",
       "604         62.0       101.0        NaN             3.0           5.0  ...   \n",
       "742         84.0       161.0        0.0             NaN           9.0  ...   \n",
       "795         36.6        59.6        NaN             3.4           5.0  ...   \n",
       "\n",
       "     bike_parking  is_studio is_open_plan     locality_name  airport_dist  \\\n",
       "81            NaN      False        False  Saint Petersburg           NaN   \n",
       "593           NaN      False        False  Saint Petersburg           NaN   \n",
       "604           NaN      False        False  Saint Petersburg           NaN   \n",
       "742           NaN      False        False  Saint Petersburg           NaN   \n",
       "795           NaN      False        False  Saint Petersburg           NaN   \n",
       "\n",
       "    city_center_dist  park_dist  parks_within_3000  pond_dist  \\\n",
       "81               NaN        NaN                NaN        NaN   \n",
       "593              NaN        NaN                NaN        NaN   \n",
       "604              NaN        NaN                NaN        NaN   \n",
       "742              NaN        NaN                NaN        NaN   \n",
       "795              NaN        NaN                NaN        NaN   \n",
       "\n",
       "     ponds_within_3000  \n",
       "81                 NaN  \n",
       "593                NaN  \n",
       "604                NaN  \n",
       "742                NaN  \n",
       "795                NaN  \n",
       "\n",
       "[5 rows x 22 columns]"
      ]
     },
     "execution_count": 13,
     "metadata": {},
     "output_type": "execute_result"
    }
   ],
   "source": [
    "in_the_city = df.query('parks_within_3000.isnull() \\\n",
    "     and ponds_within_3000.isnull() \\\n",
    "     and city_center_dist.isnull() \\\n",
    "     and airport_dist.isnull()\\\n",
    "     and locality_name == \"Saint Petersburg\"').copy()\n",
    "in_the_city.head()"
   ]
  },
  {
   "cell_type": "code",
   "execution_count": 14,
   "metadata": {},
   "outputs": [
    {
     "data": {
      "text/plain": [
       "61"
      ]
     },
     "execution_count": 14,
     "metadata": {},
     "output_type": "execute_result"
    }
   ],
   "source": [
    "in_the_city.shape[0]"
   ]
  },
  {
   "cell_type": "markdown",
   "metadata": {},
   "source": [
    "I think that the parks_within_3000 and the ponds_within_3000 columns have missing values in the Saint Petersburgs' flats because landlords've thought that it's not so informative feature or there is no any parks or ponds in the flats' districts.\n",
    "\n",
    "We can't deal any assumption about the number of parks or ponds within 3000 meters radius, so we leave the column as is.\n",
    "\n",
    "And also we leave missing values in the columns for the contryside apartments"
   ]
  },
  {
   "cell_type": "markdown",
   "metadata": {},
   "source": [
    "### Kitchen and Living area"
   ]
  },
  {
   "cell_type": "markdown",
   "metadata": {},
   "source": [
    "Now let's check the kitchen_area and the living_area columns"
   ]
  },
  {
   "cell_type": "code",
   "execution_count": 15,
   "metadata": {
    "scrolled": false
   },
   "outputs": [
    {
     "data": {
      "text/plain": [
       "<matplotlib.axes._subplots.AxesSubplot at 0x7fc9d5e74d90>"
      ]
     },
     "execution_count": 15,
     "metadata": {},
     "output_type": "execute_result"
    },
    {
     "data": {
      "image/png": "[encoded data removed]",
      "text/plain": [
       "<Figure size 432x288 with 1 Axes>"
      ]
     },
     "metadata": {
      "needs_background": "light"
     },
     "output_type": "display_data"
    }
   ],
   "source": [
    "# Let's see distribution of these features\n",
    "df['kitchen_area'].hist(bins=50)"
   ]
  },
  {
   "cell_type": "code",
   "execution_count": 16,
   "metadata": {},
   "outputs": [
    {
     "data": {
      "text/plain": [
       "<matplotlib.axes._subplots.AxesSubplot at 0x7fc9cbc9c2d0>"
      ]
     },
     "execution_count": 16,
     "metadata": {},
     "output_type": "execute_result"
    },
    {
     "data": {
      "image/png": "[encoded data removed]",
      "text/plain": [
       "<Figure size 432x288 with 1 Axes>"
      ]
     },
     "metadata": {
      "needs_background": "light"
     },
     "output_type": "display_data"
    }
   ],
   "source": [
    "df['kitchen_area'].hist(bins=50, range=(0, 25))"
   ]
  },
  {
   "cell_type": "code",
   "execution_count": 17,
   "metadata": {
    "scrolled": true
   },
   "outputs": [
    {
     "data": {
      "text/plain": [
       "count    21381.000000\n",
       "mean        10.566403\n",
       "std          5.901753\n",
       "min          1.300000\n",
       "25%          7.000000\n",
       "50%          9.100000\n",
       "75%         12.000000\n",
       "max        112.000000\n",
       "Name: kitchen_area, dtype: float64"
      ]
     },
     "execution_count": 17,
     "metadata": {},
     "output_type": "execute_result"
    }
   ],
   "source": [
    "df['kitchen_area'].describe()"
   ]
  },
  {
   "cell_type": "code",
   "execution_count": 18,
   "metadata": {},
   "outputs": [
    {
     "data": {
      "text/html": [
       "<div>\n",
       "<style scoped>\n",
       "    .dataframe tbody tr th:only-of-type {\n",
       "        vertical-align: middle;\n",
       "    }\n",
       "\n",
       "    .dataframe tbody tr th {\n",
       "        vertical-align: top;\n",
       "    }\n",
       "\n",
       "    .dataframe thead th {\n",
       "        text-align: right;\n",
       "    }\n",
       "</style>\n",
       "<table border=\"1\" class=\"dataframe\">\n",
       "  <thead>\n",
       "    <tr style=\"text-align: right;\">\n",
       "      <th></th>\n",
       "      <th>date_posted</th>\n",
       "      <th>days_listed</th>\n",
       "      <th>last_price</th>\n",
       "      <th>bedrooms</th>\n",
       "      <th>kitchen_area</th>\n",
       "      <th>living_area</th>\n",
       "      <th>total_area</th>\n",
       "      <th>balconies</th>\n",
       "      <th>ceiling_height</th>\n",
       "      <th>floors_total</th>\n",
       "      <th>...</th>\n",
       "      <th>bike_parking</th>\n",
       "      <th>is_studio</th>\n",
       "      <th>is_open_plan</th>\n",
       "      <th>locality_name</th>\n",
       "      <th>airport_dist</th>\n",
       "      <th>city_center_dist</th>\n",
       "      <th>park_dist</th>\n",
       "      <th>parks_within_3000</th>\n",
       "      <th>pond_dist</th>\n",
       "      <th>ponds_within_3000</th>\n",
       "    </tr>\n",
       "  </thead>\n",
       "  <tbody>\n",
       "    <tr>\n",
       "      <td>19505</td>\n",
       "      <td>2017-12-06T00:00:00</td>\n",
       "      <td>106.0</td>\n",
       "      <td>8400000.0</td>\n",
       "      <td>12</td>\n",
       "      <td>112.0</td>\n",
       "      <td>409.7</td>\n",
       "      <td>900.0</td>\n",
       "      <td>NaN</td>\n",
       "      <td>2.8</td>\n",
       "      <td>25.0</td>\n",
       "      <td>...</td>\n",
       "      <td>NaN</td>\n",
       "      <td>False</td>\n",
       "      <td>False</td>\n",
       "      <td>Saint Petersburg</td>\n",
       "      <td>30706.0</td>\n",
       "      <td>7877.0</td>\n",
       "      <td>NaN</td>\n",
       "      <td>0.0</td>\n",
       "      <td>318.0</td>\n",
       "      <td>2.0</td>\n",
       "    </tr>\n",
       "  </tbody>\n",
       "</table>\n",
       "<p>1 rows × 22 columns</p>\n",
       "</div>"
      ],
      "text/plain": [
       "               date_posted  days_listed  last_price  bedrooms  kitchen_area  \\\n",
       "19505  2017-12-06T00:00:00        106.0   8400000.0        12         112.0   \n",
       "\n",
       "       living_area  total_area  balconies  ceiling_height  floors_total  ...  \\\n",
       "19505        409.7       900.0        NaN             2.8          25.0  ...   \n",
       "\n",
       "       bike_parking  is_studio is_open_plan     locality_name  airport_dist  \\\n",
       "19505           NaN      False        False  Saint Petersburg       30706.0   \n",
       "\n",
       "      city_center_dist  park_dist  parks_within_3000  pond_dist  \\\n",
       "19505           7877.0        NaN                0.0      318.0   \n",
       "\n",
       "       ponds_within_3000  \n",
       "19505                2.0  \n",
       "\n",
       "[1 rows x 22 columns]"
      ]
     },
     "execution_count": 18,
     "metadata": {},
     "output_type": "execute_result"
    }
   ],
   "source": [
    "# Let's look at the flat with kitchen area is 112 squared meters\n",
    "df.query('kitchen_area == kitchen_area.max()')"
   ]
  },
  {
   "cell_type": "markdown",
   "metadata": {},
   "source": [
    "It doesn't seem like outlier: the number of bedrooms, the total area and the price tell us that it's just very expensive apartment."
   ]
  },
  {
   "cell_type": "markdown",
   "metadata": {},
   "source": [
    "We see that there are many kitchens in area range from 5 to 12. And there are many peaks on the histogram. May be they are typical flat layouts.\n",
    "\n",
    "I suppose that the kitchen_area and the total_area columns have a big correlation coefficient. Also the living_area and the total_area have the same one. So let's check."
   ]
  },
  {
   "cell_type": "code",
   "execution_count": 19,
   "metadata": {},
   "outputs": [
    {
     "data": {
      "text/plain": [
       "0.6088787817469409"
      ]
     },
     "execution_count": 19,
     "metadata": {},
     "output_type": "execute_result"
    }
   ],
   "source": [
    "df['total_area'].corr(df['kitchen_area'])"
   ]
  },
  {
   "cell_type": "code",
   "execution_count": 20,
   "metadata": {
    "scrolled": true
   },
   "outputs": [
    {
     "data": {
      "text/plain": [
       "0.939534184177642"
      ]
     },
     "execution_count": 20,
     "metadata": {},
     "output_type": "execute_result"
    }
   ],
   "source": [
    "df['total_area'].corr(df['living_area'])"
   ]
  },
  {
   "cell_type": "markdown",
   "metadata": {},
   "source": [
    "Seems like these variables are linked with each other. \n",
    "\n",
    "I want to calculate mean the kitchen_area/total_area ratio and the living_area/total_area ratio and fill NaN values with appropriate values to save the ratio. But before let's check living_area distribution and its description"
   ]
  },
  {
   "cell_type": "code",
   "execution_count": 21,
   "metadata": {
    "scrolled": true
   },
   "outputs": [
    {
     "data": {
      "text/plain": [
       "<matplotlib.axes._subplots.AxesSubplot at 0x7fc9cbb9d290>"
      ]
     },
     "execution_count": 21,
     "metadata": {},
     "output_type": "execute_result"
    },
    {
     "data": {
      "image/png": "[encoded data removed]",
      "text/plain": [
       "<Figure size 432x288 with 1 Axes>"
      ]
     },
     "metadata": {
      "needs_background": "light"
     },
     "output_type": "display_data"
    }
   ],
   "source": [
    "df['living_area'].hist(bins=50)"
   ]
  },
  {
   "cell_type": "code",
   "execution_count": 22,
   "metadata": {
    "scrolled": true
   },
   "outputs": [
    {
     "data": {
      "text/plain": [
       "<matplotlib.axes._subplots.AxesSubplot at 0x7fc9cba95b50>"
      ]
     },
     "execution_count": 22,
     "metadata": {},
     "output_type": "execute_result"
    },
    {
     "data": {
      "image/png": "[encoded data removed]",
      "text/plain": [
       "<Figure size 432x288 with 1 Axes>"
      ]
     },
     "metadata": {
      "needs_background": "light"
     },
     "output_type": "display_data"
    }
   ],
   "source": [
    "df['living_area'].hist(bins=50, range=(0, 100))"
   ]
  },
  {
   "cell_type": "code",
   "execution_count": 23,
   "metadata": {},
   "outputs": [
    {
     "data": {
      "text/plain": [
       "count    21752.000000\n",
       "mean        34.448356\n",
       "std         22.037664\n",
       "min          2.000000\n",
       "25%         18.600000\n",
       "50%         30.000000\n",
       "75%         42.300000\n",
       "max        409.700000\n",
       "Name: living_area, dtype: float64"
      ]
     },
     "execution_count": 23,
     "metadata": {},
     "output_type": "execute_result"
    }
   ],
   "source": [
    "df['living_area'].describe()"
   ]
  },
  {
   "cell_type": "markdown",
   "metadata": {},
   "source": [
    "Also let's look at the total_area distribution"
   ]
  },
  {
   "cell_type": "code",
   "execution_count": 24,
   "metadata": {
    "scrolled": true
   },
   "outputs": [
    {
     "data": {
      "text/plain": [
       "<matplotlib.axes._subplots.AxesSubplot at 0x7fc9cb94e990>"
      ]
     },
     "execution_count": 24,
     "metadata": {},
     "output_type": "execute_result"
    },
    {
     "data": {
      "image/png": "[encoded data removed]",
      "text/plain": [
       "<Figure size 432x288 with 1 Axes>"
      ]
     },
     "metadata": {
      "needs_background": "light"
     },
     "output_type": "display_data"
    }
   ],
   "source": [
    "df['total_area'].hist(bins=50)"
   ]
  },
  {
   "cell_type": "code",
   "execution_count": 25,
   "metadata": {
    "scrolled": false
   },
   "outputs": [
    {
     "data": {
      "text/plain": [
       "<matplotlib.axes._subplots.AxesSubplot at 0x7fc9cb8eb950>"
      ]
     },
     "execution_count": 25,
     "metadata": {},
     "output_type": "execute_result"
    },
    {
     "data": {
      "image/png": "[encoded data removed]",
      "text/plain": [
       "<Figure size 432x288 with 1 Axes>"
      ]
     },
     "metadata": {
      "needs_background": "light"
     },
     "output_type": "display_data"
    }
   ],
   "source": [
    "df['total_area'].hist(bins=50, range=(0, 250))"
   ]
  },
  {
   "cell_type": "code",
   "execution_count": 26,
   "metadata": {},
   "outputs": [
    {
     "name": "stdout",
     "output_type": "stream",
     "text": [
      "Kitchen/Total ratio: 0.18737152810064503\n",
      "Living/Total ratio: 0.5647499988246565\n"
     ]
    }
   ],
   "source": [
    "# Now let's calculate mean ratio\n",
    "kitchen_total_ratio = (df['kitchen_area'] / df['total_area']).mean()\n",
    "living_total_ratio = (df['living_area'] / df['total_area']).mean()\n",
    "\n",
    "print('Kitchen/Total ratio: {}'.format(kitchen_total_ratio))\n",
    "print('Living/Total ratio: {}'.format(living_total_ratio))"
   ]
  },
  {
   "cell_type": "markdown",
   "metadata": {},
   "source": [
    "So, we see that, on average, kitchen is about 18 percents of the apartment.\n",
    "Also, on average, living area is about 56 percents of the apartment.\n",
    "\n",
    "Let's fill our missing values in the columns this way. It allows us avoid situations when we have living_area or kitchen_area more than it's possible because our ratio will be saved."
   ]
  },
  {
   "cell_type": "code",
   "execution_count": 27,
   "metadata": {},
   "outputs": [
    {
     "data": {
      "text/plain": [
       "0    20.236125\n",
       "1     7.569810\n",
       "2    10.492806\n",
       "3    29.792073\n",
       "4    18.737153\n",
       "Name: total_area, dtype: float64"
      ]
     },
     "execution_count": 27,
     "metadata": {},
     "output_type": "execute_result"
    }
   ],
   "source": [
    "# Let's create Series with approximately values of the kitchen area\n",
    "approx_kitchen_area = df['total_area'] * kitchen_total_ratio\n",
    "approx_kitchen_area[0: 5]"
   ]
  },
  {
   "cell_type": "code",
   "execution_count": 28,
   "metadata": {},
   "outputs": [],
   "source": [
    "# Now we fill NaN kitchen area values with that Series and non-null values will not be touched.\n",
    "df['kitchen_area'].fillna(approx_kitchen_area, inplace=True)"
   ]
  },
  {
   "cell_type": "code",
   "execution_count": 29,
   "metadata": {},
   "outputs": [
    {
     "data": {
      "text/plain": [
       "<matplotlib.axes._subplots.AxesSubplot at 0x7fc9cb795710>"
      ]
     },
     "execution_count": 29,
     "metadata": {},
     "output_type": "execute_result"
    },
    {
     "data": {
      "image/png": "[encoded data removed]",
      "text/plain": [
       "<Figure size 432x288 with 1 Axes>"
      ]
     },
     "metadata": {
      "needs_background": "light"
     },
     "output_type": "display_data"
    }
   ],
   "source": [
    "# Let's check our distribution and description\n",
    "df['kitchen_area'].hist(bins=50)"
   ]
  },
  {
   "cell_type": "code",
   "execution_count": 30,
   "metadata": {},
   "outputs": [
    {
     "data": {
      "text/plain": [
       "<matplotlib.axes._subplots.AxesSubplot at 0x7fc9cb769410>"
      ]
     },
     "execution_count": 30,
     "metadata": {},
     "output_type": "execute_result"
    },
    {
     "data": {
      "image/png": "[encoded data removed]",
      "text/plain": [
       "<Figure size 432x288 with 1 Axes>"
      ]
     },
     "metadata": {
      "needs_background": "light"
     },
     "output_type": "display_data"
    }
   ],
   "source": [
    "df['kitchen_area'].hist(bins=50, range=(0, 50))"
   ]
  },
  {
   "cell_type": "code",
   "execution_count": 31,
   "metadata": {},
   "outputs": [
    {
     "data": {
      "text/plain": [
       "count    23650.000000\n",
       "mean        10.569202\n",
       "std          6.092953\n",
       "min          1.300000\n",
       "25%          7.000000\n",
       "50%          9.050045\n",
       "75%         12.000000\n",
       "max        112.000000\n",
       "Name: kitchen_area, dtype: float64"
      ]
     },
     "execution_count": 31,
     "metadata": {},
     "output_type": "execute_result"
    }
   ],
   "source": [
    "df['kitchen_area'].describe()"
   ]
  },
  {
   "cell_type": "markdown",
   "metadata": {},
   "source": [
    "Our distribution of the kitchen area is approximately the same. The main statistics almost didn't change!"
   ]
  },
  {
   "cell_type": "code",
   "execution_count": 32,
   "metadata": {},
   "outputs": [
    {
     "data": {
      "text/plain": [
       "0    60.99300\n",
       "1    22.81590\n",
       "2    31.62600\n",
       "3    89.79525\n",
       "4    56.47500\n",
       "Name: total_area, dtype: float64"
      ]
     },
     "execution_count": 32,
     "metadata": {},
     "output_type": "execute_result"
    }
   ],
   "source": [
    "# Now let's do the same with our living_area\n",
    "approx_living_area = df['total_area'] * living_total_ratio\n",
    "approx_living_area[0:5]"
   ]
  },
  {
   "cell_type": "code",
   "execution_count": 33,
   "metadata": {},
   "outputs": [],
   "source": [
    "df['living_area'].fillna(approx_living_area, inplace=True)"
   ]
  },
  {
   "cell_type": "code",
   "execution_count": 34,
   "metadata": {},
   "outputs": [
    {
     "data": {
      "text/plain": [
       "<matplotlib.axes._subplots.AxesSubplot at 0x7fc9cb592490>"
      ]
     },
     "execution_count": 34,
     "metadata": {},
     "output_type": "execute_result"
    },
    {
     "data": {
      "image/png": "[encoded data removed]",
      "text/plain": [
       "<Figure size 432x288 with 1 Axes>"
      ]
     },
     "metadata": {
      "needs_background": "light"
     },
     "output_type": "display_data"
    }
   ],
   "source": [
    "df['living_area'].hist(bins=50)"
   ]
  },
  {
   "cell_type": "code",
   "execution_count": 35,
   "metadata": {
    "scrolled": true
   },
   "outputs": [
    {
     "data": {
      "text/plain": [
       "<matplotlib.axes._subplots.AxesSubplot at 0x7fc9cb441d50>"
      ]
     },
     "execution_count": 35,
     "metadata": {},
     "output_type": "execute_result"
    },
    {
     "data": {
      "image/png": "[encoded data removed]",
      "text/plain": [
       "<Figure size 432x288 with 1 Axes>"
      ]
     },
     "metadata": {
      "needs_background": "light"
     },
     "output_type": "display_data"
    }
   ],
   "source": [
    "df['living_area'].hist(bins=50, range=(0, 150))"
   ]
  },
  {
   "cell_type": "code",
   "execution_count": 36,
   "metadata": {
    "scrolled": true
   },
   "outputs": [
    {
     "data": {
      "text/plain": [
       "count    23650.000000\n",
       "mean        34.550654\n",
       "std         22.331901\n",
       "min          2.000000\n",
       "25%         19.000000\n",
       "50%         30.000000\n",
       "75%         42.093469\n",
       "max        409.700000\n",
       "Name: living_area, dtype: float64"
      ]
     },
     "execution_count": 36,
     "metadata": {},
     "output_type": "execute_result"
    }
   ],
   "source": [
    "df['living_area'].describe()"
   ]
  },
  {
   "cell_type": "markdown",
   "metadata": {},
   "source": [
    "Again our distribution and the main statistics almost didn't change"
   ]
  },
  {
   "cell_type": "markdown",
   "metadata": {},
   "source": [
    "**Balconies** - there is an assumption about the column, that NaN values mean there is no any balcony. So let's fill it with zero values"
   ]
  },
  {
   "cell_type": "code",
   "execution_count": 37,
   "metadata": {},
   "outputs": [],
   "source": [
    "df['balconies'].fillna(value=0, inplace=True)"
   ]
  },
  {
   "cell_type": "code",
   "execution_count": 38,
   "metadata": {},
   "outputs": [
    {
     "name": "stdout",
     "output_type": "stream",
     "text": [
      "days_listed - 3180 - float64\n",
      "ceiling_height - 9160 - float64\n",
      "floors_total - 85 - float64\n",
      "bike_parking - 20890 - object\n",
      "airport_dist - 5534 - float64\n",
      "city_center_dist - 5511 - float64\n",
      "park_dist - 15586 - float64\n",
      "parks_within_3000 - 5510 - float64\n",
      "pond_dist - 14565 - float64\n",
      "ponds_within_3000 - 5510 - float64\n"
     ]
    }
   ],
   "source": [
    "# Let'c check what columns with the missing values we have\n",
    "print_null_columns(get_null_columns(df))"
   ]
  },
  {
   "cell_type": "markdown",
   "metadata": {},
   "source": [
    "We leave the parks, the ponds and airport and center dist columns as is. Also the days_listed column is leaved as is.\n",
    "\n",
    "Now we should check the ceiling height, the floors_total and the bike_parking columns."
   ]
  },
  {
   "cell_type": "code",
   "execution_count": 39,
   "metadata": {},
   "outputs": [
    {
     "data": {
      "text/plain": [
       "False    2710\n",
       "True       50\n",
       "Name: bike_parking, dtype: int64"
      ]
     },
     "execution_count": 39,
     "metadata": {},
     "output_type": "execute_result"
    }
   ],
   "source": [
    "# Let's start with bike_parking\n",
    "df['bike_parking'].value_counts()"
   ]
  },
  {
   "cell_type": "code",
   "execution_count": 40,
   "metadata": {},
   "outputs": [],
   "source": [
    "# I suppose that NaN values are False values so let's fillna with it\n",
    "df['bike_parking'].fillna(value=False, inplace=True)"
   ]
  },
  {
   "cell_type": "markdown",
   "metadata": {},
   "source": [
    "Since we have a task to calculate on which floor an apartment is we should accurately work with the floors_total column.\n",
    "\n",
    "Let's check rows with the null values in the column"
   ]
  },
  {
   "cell_type": "code",
   "execution_count": 41,
   "metadata": {
    "scrolled": false
   },
   "outputs": [
    {
     "data": {
      "text/plain": [
       "<matplotlib.axes._subplots.AxesSubplot at 0x7fc9cb350d50>"
      ]
     },
     "execution_count": 41,
     "metadata": {},
     "output_type": "execute_result"
    },
    {
     "data": {
      "image/png": "[encoded data removed]",
      "text/plain": [
       "<Figure size 432x288 with 1 Axes>"
      ]
     },
     "metadata": {
      "needs_background": "light"
     },
     "output_type": "display_data"
    }
   ],
   "source": [
    "df.query('floors_total.isnull()')['floor'].hist(bins=25)"
   ]
  },
  {
   "cell_type": "markdown",
   "metadata": {},
   "source": [
    "The first assumption is that the floor column tell us about the floors_total, but there are so many different values in the first one so to be more accurate we can drop the rows with the missing values because there are just 85 of if"
   ]
  },
  {
   "cell_type": "code",
   "execution_count": 42,
   "metadata": {},
   "outputs": [],
   "source": [
    "df = df.dropna(subset=['floors_total']).reset_index(drop=True)"
   ]
  },
  {
   "cell_type": "code",
   "execution_count": 43,
   "metadata": {
    "scrolled": false
   },
   "outputs": [
    {
     "name": "stdout",
     "output_type": "stream",
     "text": [
      "<class 'pandas.core.frame.DataFrame'>\n",
      "RangeIndex: 23565 entries, 0 to 23564\n",
      "Data columns (total 22 columns):\n",
      "date_posted          23565 non-null object\n",
      "days_listed          20394 non-null float64\n",
      "last_price           23565 non-null float64\n",
      "bedrooms             23565 non-null int64\n",
      "kitchen_area         23565 non-null float64\n",
      "living_area          23565 non-null float64\n",
      "total_area           23565 non-null float64\n",
      "balconies            23565 non-null float64\n",
      "ceiling_height       14481 non-null float64\n",
      "floors_total         23565 non-null float64\n",
      "floor                23565 non-null int64\n",
      "total_images         23565 non-null int64\n",
      "bike_parking         23565 non-null bool\n",
      "is_studio            23565 non-null bool\n",
      "is_open_plan         23565 non-null bool\n",
      "locality_name        23565 non-null object\n",
      "airport_dist         18041 non-null float64\n",
      "city_center_dist     18064 non-null float64\n",
      "park_dist            8030 non-null float64\n",
      "parks_within_3000    18065 non-null float64\n",
      "pond_dist            9036 non-null float64\n",
      "ponds_within_3000    18065 non-null float64\n",
      "dtypes: bool(3), float64(14), int64(3), object(2)\n",
      "memory usage: 3.5+ MB\n"
     ]
    }
   ],
   "source": [
    "df.info()"
   ]
  },
  {
   "cell_type": "code",
   "execution_count": 44,
   "metadata": {},
   "outputs": [
    {
     "name": "stdout",
     "output_type": "stream",
     "text": [
      "days_listed - 3171 - float64\n",
      "ceiling_height - 9084 - float64\n",
      "airport_dist - 5524 - float64\n",
      "city_center_dist - 5501 - float64\n",
      "park_dist - 15535 - float64\n",
      "parks_within_3000 - 5500 - float64\n",
      "pond_dist - 14529 - float64\n",
      "ponds_within_3000 - 5500 - float64\n"
     ]
    }
   ],
   "source": [
    "print_null_columns(get_null_columns(df))"
   ]
  },
  {
   "cell_type": "code",
   "execution_count": 45,
   "metadata": {},
   "outputs": [
    {
     "data": {
      "text/plain": [
       "<matplotlib.axes._subplots.AxesSubplot at 0x7fc9cb2e0f90>"
      ]
     },
     "execution_count": 45,
     "metadata": {},
     "output_type": "execute_result"
    },
    {
     "data": {
      "image/png": "[encoded data removed]",
      "text/plain": [
       "<Figure size 432x288 with 1 Axes>"
      ]
     },
     "metadata": {
      "needs_background": "light"
     },
     "output_type": "display_data"
    }
   ],
   "source": [
    "# Let's check ceiling_height distribution and description\n",
    "df['ceiling_height'].hist()"
   ]
  },
  {
   "cell_type": "code",
   "execution_count": 46,
   "metadata": {
    "scrolled": true
   },
   "outputs": [
    {
     "data": {
      "text/plain": [
       "<matplotlib.axes._subplots.AxesSubplot at 0x7fc9ce67c150>"
      ]
     },
     "execution_count": 46,
     "metadata": {},
     "output_type": "execute_result"
    },
    {
     "data": {
      "image/png": "[encoded data removed]",
      "text/plain": [
       "<Figure size 432x288 with 1 Axes>"
      ]
     },
     "metadata": {
      "needs_background": "light"
     },
     "output_type": "display_data"
    }
   ],
   "source": [
    "df['ceiling_height'].hist(bins=50, range=(1.9, 5))"
   ]
  },
  {
   "cell_type": "code",
   "execution_count": 47,
   "metadata": {
    "scrolled": true
   },
   "outputs": [
    {
     "data": {
      "text/plain": [
       "count    14481.000000\n",
       "mean         2.771283\n",
       "std          1.261983\n",
       "min          1.000000\n",
       "25%          2.510000\n",
       "50%          2.650000\n",
       "75%          2.800000\n",
       "max        100.000000\n",
       "Name: ceiling_height, dtype: float64"
      ]
     },
     "execution_count": 47,
     "metadata": {},
     "output_type": "execute_result"
    }
   ],
   "source": [
    "df['ceiling_height'].describe()"
   ]
  },
  {
   "cell_type": "markdown",
   "metadata": {},
   "source": [
    "It's strange that the max value of the column is 100.0. I suppose it's just outlier and we leave the column as is for our EDA"
   ]
  },
  {
   "cell_type": "markdown",
   "metadata": {},
   "source": [
    "### Data type replacement"
   ]
  },
  {
   "cell_type": "code",
   "execution_count": 48,
   "metadata": {},
   "outputs": [
    {
     "name": "stdout",
     "output_type": "stream",
     "text": [
      "<class 'pandas.core.frame.DataFrame'>\n",
      "RangeIndex: 23565 entries, 0 to 23564\n",
      "Data columns (total 22 columns):\n",
      "date_posted          23565 non-null object\n",
      "days_listed          20394 non-null float64\n",
      "last_price           23565 non-null float64\n",
      "bedrooms             23565 non-null int64\n",
      "kitchen_area         23565 non-null float64\n",
      "living_area          23565 non-null float64\n",
      "total_area           23565 non-null float64\n",
      "balconies            23565 non-null float64\n",
      "ceiling_height       14481 non-null float64\n",
      "floors_total         23565 non-null float64\n",
      "floor                23565 non-null int64\n",
      "total_images         23565 non-null int64\n",
      "bike_parking         23565 non-null bool\n",
      "is_studio            23565 non-null bool\n",
      "is_open_plan         23565 non-null bool\n",
      "locality_name        23565 non-null object\n",
      "airport_dist         18041 non-null float64\n",
      "city_center_dist     18064 non-null float64\n",
      "park_dist            8030 non-null float64\n",
      "parks_within_3000    18065 non-null float64\n",
      "pond_dist            9036 non-null float64\n",
      "ponds_within_3000    18065 non-null float64\n",
      "dtypes: bool(3), float64(14), int64(3), object(2)\n",
      "memory usage: 3.5+ MB\n"
     ]
    }
   ],
   "source": [
    "# Let's check at our data types now\n",
    "df.info()"
   ]
  },
  {
   "cell_type": "markdown",
   "metadata": {},
   "source": [
    "We need to replace data type in:\n",
    "1. the date_posted from object to datetime\n",
    "3. the last_price from float64 to int64\n",
    "4. the balconies from float64 to int64\n",
    "5. the floors_total from float64 to int64\n",
    "6. the parks and ponds within 3000 from float64 to int64"
   ]
  },
  {
   "cell_type": "code",
   "execution_count": 49,
   "metadata": {},
   "outputs": [
    {
     "data": {
      "text/html": [
       "<div>\n",
       "<style scoped>\n",
       "    .dataframe tbody tr th:only-of-type {\n",
       "        vertical-align: middle;\n",
       "    }\n",
       "\n",
       "    .dataframe tbody tr th {\n",
       "        vertical-align: top;\n",
       "    }\n",
       "\n",
       "    .dataframe thead th {\n",
       "        text-align: right;\n",
       "    }\n",
       "</style>\n",
       "<table border=\"1\" class=\"dataframe\">\n",
       "  <thead>\n",
       "    <tr style=\"text-align: right;\">\n",
       "      <th></th>\n",
       "      <th>date_posted</th>\n",
       "      <th>days_listed</th>\n",
       "      <th>last_price</th>\n",
       "      <th>bedrooms</th>\n",
       "      <th>kitchen_area</th>\n",
       "      <th>living_area</th>\n",
       "      <th>total_area</th>\n",
       "      <th>balconies</th>\n",
       "      <th>ceiling_height</th>\n",
       "      <th>floors_total</th>\n",
       "      <th>...</th>\n",
       "      <th>bike_parking</th>\n",
       "      <th>is_studio</th>\n",
       "      <th>is_open_plan</th>\n",
       "      <th>locality_name</th>\n",
       "      <th>airport_dist</th>\n",
       "      <th>city_center_dist</th>\n",
       "      <th>park_dist</th>\n",
       "      <th>parks_within_3000</th>\n",
       "      <th>pond_dist</th>\n",
       "      <th>ponds_within_3000</th>\n",
       "    </tr>\n",
       "  </thead>\n",
       "  <tbody>\n",
       "    <tr>\n",
       "      <td>0</td>\n",
       "      <td>2019-03-07T00:00:00</td>\n",
       "      <td>NaN</td>\n",
       "      <td>260000.0</td>\n",
       "      <td>3</td>\n",
       "      <td>25.000000</td>\n",
       "      <td>51.00000</td>\n",
       "      <td>108.0</td>\n",
       "      <td>0.0</td>\n",
       "      <td>2.70</td>\n",
       "      <td>16.0</td>\n",
       "      <td>...</td>\n",
       "      <td>False</td>\n",
       "      <td>False</td>\n",
       "      <td>False</td>\n",
       "      <td>Saint Petersburg</td>\n",
       "      <td>18863.0</td>\n",
       "      <td>16028.0</td>\n",
       "      <td>482.0</td>\n",
       "      <td>1.0</td>\n",
       "      <td>755.0</td>\n",
       "      <td>2.0</td>\n",
       "    </tr>\n",
       "    <tr>\n",
       "      <td>1</td>\n",
       "      <td>2018-12-04T00:00:00</td>\n",
       "      <td>81.0</td>\n",
       "      <td>67000.0</td>\n",
       "      <td>1</td>\n",
       "      <td>11.000000</td>\n",
       "      <td>18.60000</td>\n",
       "      <td>40.4</td>\n",
       "      <td>2.0</td>\n",
       "      <td>NaN</td>\n",
       "      <td>11.0</td>\n",
       "      <td>...</td>\n",
       "      <td>False</td>\n",
       "      <td>False</td>\n",
       "      <td>False</td>\n",
       "      <td>Shushary village</td>\n",
       "      <td>12817.0</td>\n",
       "      <td>18603.0</td>\n",
       "      <td>NaN</td>\n",
       "      <td>0.0</td>\n",
       "      <td>NaN</td>\n",
       "      <td>0.0</td>\n",
       "    </tr>\n",
       "    <tr>\n",
       "      <td>2</td>\n",
       "      <td>2015-08-20T00:00:00</td>\n",
       "      <td>558.0</td>\n",
       "      <td>103920.0</td>\n",
       "      <td>2</td>\n",
       "      <td>8.300000</td>\n",
       "      <td>34.30000</td>\n",
       "      <td>56.0</td>\n",
       "      <td>0.0</td>\n",
       "      <td>NaN</td>\n",
       "      <td>5.0</td>\n",
       "      <td>...</td>\n",
       "      <td>False</td>\n",
       "      <td>False</td>\n",
       "      <td>False</td>\n",
       "      <td>Saint Petersburg</td>\n",
       "      <td>21741.0</td>\n",
       "      <td>13933.0</td>\n",
       "      <td>90.0</td>\n",
       "      <td>1.0</td>\n",
       "      <td>574.0</td>\n",
       "      <td>2.0</td>\n",
       "    </tr>\n",
       "    <tr>\n",
       "      <td>3</td>\n",
       "      <td>2015-07-24T00:00:00</td>\n",
       "      <td>424.0</td>\n",
       "      <td>1298000.0</td>\n",
       "      <td>3</td>\n",
       "      <td>29.792073</td>\n",
       "      <td>89.79525</td>\n",
       "      <td>159.0</td>\n",
       "      <td>0.0</td>\n",
       "      <td>NaN</td>\n",
       "      <td>14.0</td>\n",
       "      <td>...</td>\n",
       "      <td>False</td>\n",
       "      <td>False</td>\n",
       "      <td>False</td>\n",
       "      <td>Saint Petersburg</td>\n",
       "      <td>28098.0</td>\n",
       "      <td>6800.0</td>\n",
       "      <td>84.0</td>\n",
       "      <td>2.0</td>\n",
       "      <td>234.0</td>\n",
       "      <td>3.0</td>\n",
       "    </tr>\n",
       "    <tr>\n",
       "      <td>4</td>\n",
       "      <td>2018-06-19T00:00:00</td>\n",
       "      <td>121.0</td>\n",
       "      <td>200000.0</td>\n",
       "      <td>2</td>\n",
       "      <td>41.000000</td>\n",
       "      <td>32.00000</td>\n",
       "      <td>100.0</td>\n",
       "      <td>0.0</td>\n",
       "      <td>3.03</td>\n",
       "      <td>14.0</td>\n",
       "      <td>...</td>\n",
       "      <td>False</td>\n",
       "      <td>False</td>\n",
       "      <td>False</td>\n",
       "      <td>Saint Petersburg</td>\n",
       "      <td>31856.0</td>\n",
       "      <td>8098.0</td>\n",
       "      <td>112.0</td>\n",
       "      <td>2.0</td>\n",
       "      <td>48.0</td>\n",
       "      <td>1.0</td>\n",
       "    </tr>\n",
       "  </tbody>\n",
       "</table>\n",
       "<p>5 rows × 22 columns</p>\n",
       "</div>"
      ],
      "text/plain": [
       "           date_posted  days_listed  last_price  bedrooms  kitchen_area  \\\n",
       "0  2019-03-07T00:00:00          NaN    260000.0         3     25.000000   \n",
       "1  2018-12-04T00:00:00         81.0     67000.0         1     11.000000   \n",
       "2  2015-08-20T00:00:00        558.0    103920.0         2      8.300000   \n",
       "3  2015-07-24T00:00:00        424.0   1298000.0         3     29.792073   \n",
       "4  2018-06-19T00:00:00        121.0    200000.0         2     41.000000   \n",
       "\n",
       "   living_area  total_area  balconies  ceiling_height  floors_total  ...  \\\n",
       "0     51.00000       108.0        0.0            2.70          16.0  ...   \n",
       "1     18.60000        40.4        2.0             NaN          11.0  ...   \n",
       "2     34.30000        56.0        0.0             NaN           5.0  ...   \n",
       "3     89.79525       159.0        0.0             NaN          14.0  ...   \n",
       "4     32.00000       100.0        0.0            3.03          14.0  ...   \n",
       "\n",
       "   bike_parking  is_studio  is_open_plan     locality_name  airport_dist  \\\n",
       "0         False      False         False  Saint Petersburg       18863.0   \n",
       "1         False      False         False  Shushary village       12817.0   \n",
       "2         False      False         False  Saint Petersburg       21741.0   \n",
       "3         False      False         False  Saint Petersburg       28098.0   \n",
       "4         False      False         False  Saint Petersburg       31856.0   \n",
       "\n",
       "  city_center_dist  park_dist  parks_within_3000  pond_dist  ponds_within_3000  \n",
       "0          16028.0      482.0                1.0      755.0                2.0  \n",
       "1          18603.0        NaN                0.0        NaN                0.0  \n",
       "2          13933.0       90.0                1.0      574.0                2.0  \n",
       "3           6800.0       84.0                2.0      234.0                3.0  \n",
       "4           8098.0      112.0                2.0       48.0                1.0  \n",
       "\n",
       "[5 rows x 22 columns]"
      ]
     },
     "execution_count": 49,
     "metadata": {},
     "output_type": "execute_result"
    }
   ],
   "source": [
    "df.head()"
   ]
  },
  {
   "cell_type": "code",
   "execution_count": 50,
   "metadata": {},
   "outputs": [],
   "source": [
    "# Our format is: %Y-%m-%dT%H:%M:%S\n",
    "df['date_posted'] = pd.to_datetime(df['date_posted'], format='%Y-%m-%dT%H:%M:%S')"
   ]
  },
  {
   "cell_type": "code",
   "execution_count": 51,
   "metadata": {
    "scrolled": false
   },
   "outputs": [
    {
     "name": "stdout",
     "output_type": "stream",
     "text": [
      "<class 'pandas.core.frame.DataFrame'>\n",
      "RangeIndex: 23565 entries, 0 to 23564\n",
      "Data columns (total 22 columns):\n",
      "date_posted          23565 non-null datetime64[ns]\n",
      "days_listed          20394 non-null float64\n",
      "last_price           23565 non-null float64\n",
      "bedrooms             23565 non-null int64\n",
      "kitchen_area         23565 non-null float64\n",
      "living_area          23565 non-null float64\n",
      "total_area           23565 non-null float64\n",
      "balconies            23565 non-null float64\n",
      "ceiling_height       14481 non-null float64\n",
      "floors_total         23565 non-null float64\n",
      "floor                23565 non-null int64\n",
      "total_images         23565 non-null int64\n",
      "bike_parking         23565 non-null bool\n",
      "is_studio            23565 non-null bool\n",
      "is_open_plan         23565 non-null bool\n",
      "locality_name        23565 non-null object\n",
      "airport_dist         18041 non-null float64\n",
      "city_center_dist     18064 non-null float64\n",
      "park_dist            8030 non-null float64\n",
      "parks_within_3000    18065 non-null float64\n",
      "pond_dist            9036 non-null float64\n",
      "ponds_within_3000    18065 non-null float64\n",
      "dtypes: bool(3), datetime64[ns](1), float64(14), int64(3), object(1)\n",
      "memory usage: 3.5+ MB\n"
     ]
    }
   ],
   "source": [
    "df.info()"
   ]
  },
  {
   "cell_type": "code",
   "execution_count": 52,
   "metadata": {
    "scrolled": true
   },
   "outputs": [
    {
     "data": {
      "text/html": [
       "<div>\n",
       "<style scoped>\n",
       "    .dataframe tbody tr th:only-of-type {\n",
       "        vertical-align: middle;\n",
       "    }\n",
       "\n",
       "    .dataframe tbody tr th {\n",
       "        vertical-align: top;\n",
       "    }\n",
       "\n",
       "    .dataframe thead th {\n",
       "        text-align: right;\n",
       "    }\n",
       "</style>\n",
       "<table border=\"1\" class=\"dataframe\">\n",
       "  <thead>\n",
       "    <tr style=\"text-align: right;\">\n",
       "      <th></th>\n",
       "      <th>date_posted</th>\n",
       "      <th>days_listed</th>\n",
       "      <th>last_price</th>\n",
       "      <th>bedrooms</th>\n",
       "      <th>kitchen_area</th>\n",
       "      <th>living_area</th>\n",
       "      <th>total_area</th>\n",
       "      <th>balconies</th>\n",
       "      <th>ceiling_height</th>\n",
       "      <th>floors_total</th>\n",
       "      <th>...</th>\n",
       "      <th>bike_parking</th>\n",
       "      <th>is_studio</th>\n",
       "      <th>is_open_plan</th>\n",
       "      <th>locality_name</th>\n",
       "      <th>airport_dist</th>\n",
       "      <th>city_center_dist</th>\n",
       "      <th>park_dist</th>\n",
       "      <th>parks_within_3000</th>\n",
       "      <th>pond_dist</th>\n",
       "      <th>ponds_within_3000</th>\n",
       "    </tr>\n",
       "  </thead>\n",
       "  <tbody>\n",
       "    <tr>\n",
       "      <td>0</td>\n",
       "      <td>2019-03-07</td>\n",
       "      <td>NaN</td>\n",
       "      <td>260000.0</td>\n",
       "      <td>3</td>\n",
       "      <td>25.000000</td>\n",
       "      <td>51.00000</td>\n",
       "      <td>108.0</td>\n",
       "      <td>0.0</td>\n",
       "      <td>2.70</td>\n",
       "      <td>16.0</td>\n",
       "      <td>...</td>\n",
       "      <td>False</td>\n",
       "      <td>False</td>\n",
       "      <td>False</td>\n",
       "      <td>Saint Petersburg</td>\n",
       "      <td>18863.0</td>\n",
       "      <td>16028.0</td>\n",
       "      <td>482.0</td>\n",
       "      <td>1.0</td>\n",
       "      <td>755.0</td>\n",
       "      <td>2.0</td>\n",
       "    </tr>\n",
       "    <tr>\n",
       "      <td>1</td>\n",
       "      <td>2018-12-04</td>\n",
       "      <td>81.0</td>\n",
       "      <td>67000.0</td>\n",
       "      <td>1</td>\n",
       "      <td>11.000000</td>\n",
       "      <td>18.60000</td>\n",
       "      <td>40.4</td>\n",
       "      <td>2.0</td>\n",
       "      <td>NaN</td>\n",
       "      <td>11.0</td>\n",
       "      <td>...</td>\n",
       "      <td>False</td>\n",
       "      <td>False</td>\n",
       "      <td>False</td>\n",
       "      <td>Shushary village</td>\n",
       "      <td>12817.0</td>\n",
       "      <td>18603.0</td>\n",
       "      <td>NaN</td>\n",
       "      <td>0.0</td>\n",
       "      <td>NaN</td>\n",
       "      <td>0.0</td>\n",
       "    </tr>\n",
       "    <tr>\n",
       "      <td>2</td>\n",
       "      <td>2015-08-20</td>\n",
       "      <td>558.0</td>\n",
       "      <td>103920.0</td>\n",
       "      <td>2</td>\n",
       "      <td>8.300000</td>\n",
       "      <td>34.30000</td>\n",
       "      <td>56.0</td>\n",
       "      <td>0.0</td>\n",
       "      <td>NaN</td>\n",
       "      <td>5.0</td>\n",
       "      <td>...</td>\n",
       "      <td>False</td>\n",
       "      <td>False</td>\n",
       "      <td>False</td>\n",
       "      <td>Saint Petersburg</td>\n",
       "      <td>21741.0</td>\n",
       "      <td>13933.0</td>\n",
       "      <td>90.0</td>\n",
       "      <td>1.0</td>\n",
       "      <td>574.0</td>\n",
       "      <td>2.0</td>\n",
       "    </tr>\n",
       "    <tr>\n",
       "      <td>3</td>\n",
       "      <td>2015-07-24</td>\n",
       "      <td>424.0</td>\n",
       "      <td>1298000.0</td>\n",
       "      <td>3</td>\n",
       "      <td>29.792073</td>\n",
       "      <td>89.79525</td>\n",
       "      <td>159.0</td>\n",
       "      <td>0.0</td>\n",
       "      <td>NaN</td>\n",
       "      <td>14.0</td>\n",
       "      <td>...</td>\n",
       "      <td>False</td>\n",
       "      <td>False</td>\n",
       "      <td>False</td>\n",
       "      <td>Saint Petersburg</td>\n",
       "      <td>28098.0</td>\n",
       "      <td>6800.0</td>\n",
       "      <td>84.0</td>\n",
       "      <td>2.0</td>\n",
       "      <td>234.0</td>\n",
       "      <td>3.0</td>\n",
       "    </tr>\n",
       "    <tr>\n",
       "      <td>4</td>\n",
       "      <td>2018-06-19</td>\n",
       "      <td>121.0</td>\n",
       "      <td>200000.0</td>\n",
       "      <td>2</td>\n",
       "      <td>41.000000</td>\n",
       "      <td>32.00000</td>\n",
       "      <td>100.0</td>\n",
       "      <td>0.0</td>\n",
       "      <td>3.03</td>\n",
       "      <td>14.0</td>\n",
       "      <td>...</td>\n",
       "      <td>False</td>\n",
       "      <td>False</td>\n",
       "      <td>False</td>\n",
       "      <td>Saint Petersburg</td>\n",
       "      <td>31856.0</td>\n",
       "      <td>8098.0</td>\n",
       "      <td>112.0</td>\n",
       "      <td>2.0</td>\n",
       "      <td>48.0</td>\n",
       "      <td>1.0</td>\n",
       "    </tr>\n",
       "  </tbody>\n",
       "</table>\n",
       "<p>5 rows × 22 columns</p>\n",
       "</div>"
      ],
      "text/plain": [
       "  date_posted  days_listed  last_price  bedrooms  kitchen_area  living_area  \\\n",
       "0  2019-03-07          NaN    260000.0         3     25.000000     51.00000   \n",
       "1  2018-12-04         81.0     67000.0         1     11.000000     18.60000   \n",
       "2  2015-08-20        558.0    103920.0         2      8.300000     34.30000   \n",
       "3  2015-07-24        424.0   1298000.0         3     29.792073     89.79525   \n",
       "4  2018-06-19        121.0    200000.0         2     41.000000     32.00000   \n",
       "\n",
       "   total_area  balconies  ceiling_height  floors_total  ...  bike_parking  \\\n",
       "0       108.0        0.0            2.70          16.0  ...         False   \n",
       "1        40.4        2.0             NaN          11.0  ...         False   \n",
       "2        56.0        0.0             NaN           5.0  ...         False   \n",
       "3       159.0        0.0             NaN          14.0  ...         False   \n",
       "4       100.0        0.0            3.03          14.0  ...         False   \n",
       "\n",
       "   is_studio  is_open_plan     locality_name  airport_dist city_center_dist  \\\n",
       "0      False         False  Saint Petersburg       18863.0          16028.0   \n",
       "1      False         False  Shushary village       12817.0          18603.0   \n",
       "2      False         False  Saint Petersburg       21741.0          13933.0   \n",
       "3      False         False  Saint Petersburg       28098.0           6800.0   \n",
       "4      False         False  Saint Petersburg       31856.0           8098.0   \n",
       "\n",
       "   park_dist  parks_within_3000  pond_dist  ponds_within_3000  \n",
       "0      482.0                1.0      755.0                2.0  \n",
       "1        NaN                0.0        NaN                0.0  \n",
       "2       90.0                1.0      574.0                2.0  \n",
       "3       84.0                2.0      234.0                3.0  \n",
       "4      112.0                2.0       48.0                1.0  \n",
       "\n",
       "[5 rows x 22 columns]"
      ]
     },
     "execution_count": 52,
     "metadata": {},
     "output_type": "execute_result"
    }
   ],
   "source": [
    "df.head()"
   ]
  },
  {
   "cell_type": "code",
   "execution_count": 53,
   "metadata": {
    "scrolled": true
   },
   "outputs": [],
   "source": [
    "columns_to_int64 = ['last_price', 'balconies', 'floors_total', 'parks_within_3000', 'ponds_within_3000']\n",
    "\n",
    "for column in columns_to_int64:\n",
    "    df[column] = df[column].astype('Int64')"
   ]
  },
  {
   "cell_type": "code",
   "execution_count": 54,
   "metadata": {},
   "outputs": [
    {
     "name": "stdout",
     "output_type": "stream",
     "text": [
      "<class 'pandas.core.frame.DataFrame'>\n",
      "RangeIndex: 23565 entries, 0 to 23564\n",
      "Data columns (total 22 columns):\n",
      "date_posted          23565 non-null datetime64[ns]\n",
      "days_listed          20394 non-null float64\n",
      "last_price           23565 non-null Int64\n",
      "bedrooms             23565 non-null int64\n",
      "kitchen_area         23565 non-null float64\n",
      "living_area          23565 non-null float64\n",
      "total_area           23565 non-null float64\n",
      "balconies            23565 non-null Int64\n",
      "ceiling_height       14481 non-null float64\n",
      "floors_total         23565 non-null Int64\n",
      "floor                23565 non-null int64\n",
      "total_images         23565 non-null int64\n",
      "bike_parking         23565 non-null bool\n",
      "is_studio            23565 non-null bool\n",
      "is_open_plan         23565 non-null bool\n",
      "locality_name        23565 non-null object\n",
      "airport_dist         18041 non-null float64\n",
      "city_center_dist     18064 non-null float64\n",
      "park_dist            8030 non-null float64\n",
      "parks_within_3000    18065 non-null Int64\n",
      "pond_dist            9036 non-null float64\n",
      "ponds_within_3000    18065 non-null Int64\n",
      "dtypes: Int64(5), bool(3), datetime64[ns](1), float64(9), int64(3), object(1)\n",
      "memory usage: 3.6+ MB\n"
     ]
    }
   ],
   "source": [
    "df.info()"
   ]
  },
  {
   "cell_type": "markdown",
   "metadata": {},
   "source": [
    "I can't cast the days_listed column to Int64 because of safe cast error, so we leave the column as is"
   ]
  },
  {
   "cell_type": "markdown",
   "metadata": {},
   "source": [
    "### Step 3. Make calculations and add them to the table"
   ]
  },
  {
   "cell_type": "code",
   "execution_count": 55,
   "metadata": {},
   "outputs": [],
   "source": [
    "def get_floor_type(row):\n",
    "    floor = row['floor']\n",
    "    floors_total = row['floors_total']\n",
    "    if floor == 1:\n",
    "        return 'first'\n",
    "    elif floors_total - floor > 0:\n",
    "        return 'other'\n",
    "    return 'last'"
   ]
  },
  {
   "cell_type": "code",
   "execution_count": 56,
   "metadata": {},
   "outputs": [],
   "source": [
    "# Let's calculate the price_per_square, week_day, month, year, floor_type, \n",
    "# kitchen_total and living_total ratio columns\n",
    "df['price_per_square'] = df['last_price'] / df['total_area']\n",
    "df['weekday'] = df['date_posted'].dt.weekday\n",
    "df['month'] = df['date_posted'].dt.month\n",
    "df['year'] = df['date_posted'].dt.year\n",
    "df['floor_type'] = df.apply(get_floor_type, axis=1)\n",
    "df['kitchen_total_ratio'] = df['kitchen_area'] / df['total_area']\n",
    "df['living_total_ratio'] = df['living_area'] / df['total_area']"
   ]
  },
  {
   "cell_type": "code",
   "execution_count": 57,
   "metadata": {},
   "outputs": [
    {
     "data": {
      "text/html": [
       "<div>\n",
       "<style scoped>\n",
       "    .dataframe tbody tr th:only-of-type {\n",
       "        vertical-align: middle;\n",
       "    }\n",
       "\n",
       "    .dataframe tbody tr th {\n",
       "        vertical-align: top;\n",
       "    }\n",
       "\n",
       "    .dataframe thead th {\n",
       "        text-align: right;\n",
       "    }\n",
       "</style>\n",
       "<table border=\"1\" class=\"dataframe\">\n",
       "  <thead>\n",
       "    <tr style=\"text-align: right;\">\n",
       "      <th></th>\n",
       "      <th>date_posted</th>\n",
       "      <th>days_listed</th>\n",
       "      <th>last_price</th>\n",
       "      <th>bedrooms</th>\n",
       "      <th>kitchen_area</th>\n",
       "      <th>living_area</th>\n",
       "      <th>total_area</th>\n",
       "      <th>balconies</th>\n",
       "      <th>ceiling_height</th>\n",
       "      <th>floors_total</th>\n",
       "      <th>...</th>\n",
       "      <th>parks_within_3000</th>\n",
       "      <th>pond_dist</th>\n",
       "      <th>ponds_within_3000</th>\n",
       "      <th>price_per_square</th>\n",
       "      <th>weekday</th>\n",
       "      <th>month</th>\n",
       "      <th>year</th>\n",
       "      <th>floor_type</th>\n",
       "      <th>kitchen_total_ratio</th>\n",
       "      <th>living_total_ratio</th>\n",
       "    </tr>\n",
       "  </thead>\n",
       "  <tbody>\n",
       "    <tr>\n",
       "      <td>0</td>\n",
       "      <td>2019-03-07</td>\n",
       "      <td>NaN</td>\n",
       "      <td>260000</td>\n",
       "      <td>3</td>\n",
       "      <td>25.000000</td>\n",
       "      <td>51.00000</td>\n",
       "      <td>108.0</td>\n",
       "      <td>0</td>\n",
       "      <td>2.70</td>\n",
       "      <td>16</td>\n",
       "      <td>...</td>\n",
       "      <td>1</td>\n",
       "      <td>755.0</td>\n",
       "      <td>2</td>\n",
       "      <td>2407.407407</td>\n",
       "      <td>3</td>\n",
       "      <td>3</td>\n",
       "      <td>2019</td>\n",
       "      <td>other</td>\n",
       "      <td>0.231481</td>\n",
       "      <td>0.472222</td>\n",
       "    </tr>\n",
       "    <tr>\n",
       "      <td>1</td>\n",
       "      <td>2018-12-04</td>\n",
       "      <td>81.0</td>\n",
       "      <td>67000</td>\n",
       "      <td>1</td>\n",
       "      <td>11.000000</td>\n",
       "      <td>18.60000</td>\n",
       "      <td>40.4</td>\n",
       "      <td>2</td>\n",
       "      <td>NaN</td>\n",
       "      <td>11</td>\n",
       "      <td>...</td>\n",
       "      <td>0</td>\n",
       "      <td>NaN</td>\n",
       "      <td>0</td>\n",
       "      <td>1658.415842</td>\n",
       "      <td>1</td>\n",
       "      <td>12</td>\n",
       "      <td>2018</td>\n",
       "      <td>first</td>\n",
       "      <td>0.272277</td>\n",
       "      <td>0.460396</td>\n",
       "    </tr>\n",
       "    <tr>\n",
       "      <td>2</td>\n",
       "      <td>2015-08-20</td>\n",
       "      <td>558.0</td>\n",
       "      <td>103920</td>\n",
       "      <td>2</td>\n",
       "      <td>8.300000</td>\n",
       "      <td>34.30000</td>\n",
       "      <td>56.0</td>\n",
       "      <td>0</td>\n",
       "      <td>NaN</td>\n",
       "      <td>5</td>\n",
       "      <td>...</td>\n",
       "      <td>1</td>\n",
       "      <td>574.0</td>\n",
       "      <td>2</td>\n",
       "      <td>1855.714286</td>\n",
       "      <td>3</td>\n",
       "      <td>8</td>\n",
       "      <td>2015</td>\n",
       "      <td>other</td>\n",
       "      <td>0.148214</td>\n",
       "      <td>0.612500</td>\n",
       "    </tr>\n",
       "    <tr>\n",
       "      <td>3</td>\n",
       "      <td>2015-07-24</td>\n",
       "      <td>424.0</td>\n",
       "      <td>1298000</td>\n",
       "      <td>3</td>\n",
       "      <td>29.792073</td>\n",
       "      <td>89.79525</td>\n",
       "      <td>159.0</td>\n",
       "      <td>0</td>\n",
       "      <td>NaN</td>\n",
       "      <td>14</td>\n",
       "      <td>...</td>\n",
       "      <td>2</td>\n",
       "      <td>234.0</td>\n",
       "      <td>3</td>\n",
       "      <td>8163.522013</td>\n",
       "      <td>4</td>\n",
       "      <td>7</td>\n",
       "      <td>2015</td>\n",
       "      <td>other</td>\n",
       "      <td>0.187372</td>\n",
       "      <td>0.564750</td>\n",
       "    </tr>\n",
       "    <tr>\n",
       "      <td>4</td>\n",
       "      <td>2018-06-19</td>\n",
       "      <td>121.0</td>\n",
       "      <td>200000</td>\n",
       "      <td>2</td>\n",
       "      <td>41.000000</td>\n",
       "      <td>32.00000</td>\n",
       "      <td>100.0</td>\n",
       "      <td>0</td>\n",
       "      <td>3.03</td>\n",
       "      <td>14</td>\n",
       "      <td>...</td>\n",
       "      <td>2</td>\n",
       "      <td>48.0</td>\n",
       "      <td>1</td>\n",
       "      <td>2000.000000</td>\n",
       "      <td>1</td>\n",
       "      <td>6</td>\n",
       "      <td>2018</td>\n",
       "      <td>other</td>\n",
       "      <td>0.410000</td>\n",
       "      <td>0.320000</td>\n",
       "    </tr>\n",
       "  </tbody>\n",
       "</table>\n",
       "<p>5 rows × 29 columns</p>\n",
       "</div>"
      ],
      "text/plain": [
       "  date_posted  days_listed  last_price  bedrooms  kitchen_area  living_area  \\\n",
       "0  2019-03-07          NaN      260000         3     25.000000     51.00000   \n",
       "1  2018-12-04         81.0       67000         1     11.000000     18.60000   \n",
       "2  2015-08-20        558.0      103920         2      8.300000     34.30000   \n",
       "3  2015-07-24        424.0     1298000         3     29.792073     89.79525   \n",
       "4  2018-06-19        121.0      200000         2     41.000000     32.00000   \n",
       "\n",
       "   total_area  balconies  ceiling_height  floors_total  ...  \\\n",
       "0       108.0          0            2.70            16  ...   \n",
       "1        40.4          2             NaN            11  ...   \n",
       "2        56.0          0             NaN             5  ...   \n",
       "3       159.0          0             NaN            14  ...   \n",
       "4       100.0          0            3.03            14  ...   \n",
       "\n",
       "   parks_within_3000  pond_dist  ponds_within_3000  price_per_square  weekday  \\\n",
       "0                  1      755.0                  2       2407.407407        3   \n",
       "1                  0        NaN                  0       1658.415842        1   \n",
       "2                  1      574.0                  2       1855.714286        3   \n",
       "3                  2      234.0                  3       8163.522013        4   \n",
       "4                  2       48.0                  1       2000.000000        1   \n",
       "\n",
       "  month  year  floor_type  kitchen_total_ratio  living_total_ratio  \n",
       "0     3  2019       other             0.231481            0.472222  \n",
       "1    12  2018       first             0.272277            0.460396  \n",
       "2     8  2015       other             0.148214            0.612500  \n",
       "3     7  2015       other             0.187372            0.564750  \n",
       "4     6  2018       other             0.410000            0.320000  \n",
       "\n",
       "[5 rows x 29 columns]"
      ]
     },
     "execution_count": 57,
     "metadata": {},
     "output_type": "execute_result"
    }
   ],
   "source": [
    "# Let's check\n",
    "df.head()"
   ]
  },
  {
   "cell_type": "markdown",
   "metadata": {},
   "source": [
    "### Step 4. Conduct exploratory data analysis and follow the instructions below:"
   ]
  },
  {
   "cell_type": "markdown",
   "metadata": {},
   "source": [
    "square_area, price, number_of_rooms, ceiling_height"
   ]
  },
  {
   "cell_type": "code",
   "execution_count": 58,
   "metadata": {
    "scrolled": true
   },
   "outputs": [
    {
     "data": {
      "text/plain": [
       "<matplotlib.axes._subplots.AxesSubplot at 0x7fc9ce56f590>"
      ]
     },
     "execution_count": 58,
     "metadata": {},
     "output_type": "execute_result"
    },
    {
     "data": {
      "image/png": "[encoded data removed]",
      "text/plain": [
       "<Figure size 432x288 with 1 Axes>"
      ]
     },
     "metadata": {
      "needs_background": "light"
     },
     "output_type": "display_data"
    }
   ],
   "source": [
    "# At first let's take a look at the total_area column\n",
    "total_area = df['total_area']\n",
    "total_area.hist(bins=30)"
   ]
  },
  {
   "cell_type": "code",
   "execution_count": 59,
   "metadata": {
    "scrolled": false
   },
   "outputs": [
    {
     "data": {
      "text/plain": [
       "<matplotlib.axes._subplots.AxesSubplot at 0x7fc9ce451350>"
      ]
     },
     "execution_count": 59,
     "metadata": {},
     "output_type": "execute_result"
    },
    {
     "data": {
      "image/png": "[encoded data removed]",
      "text/plain": [
       "<Figure size 432x288 with 1 Axes>"
      ]
     },
     "metadata": {
      "needs_background": "light"
     },
     "output_type": "display_data"
    }
   ],
   "source": [
    "total_area.hist(bins=30, range=(0, 200))"
   ]
  },
  {
   "cell_type": "code",
   "execution_count": 60,
   "metadata": {
    "scrolled": false
   },
   "outputs": [
    {
     "data": {
      "image/png": "[encoded data removed]",
      "text/plain": [
       "<Figure size 720x720 with 1 Axes>"
      ]
     },
     "metadata": {
      "needs_background": "light"
     },
     "output_type": "display_data"
    }
   ],
   "source": [
    "_, bp = df.boxplot(column='total_area', figsize=(10, 10), return_type='both')"
   ]
  },
  {
   "cell_type": "code",
   "execution_count": 61,
   "metadata": {
    "scrolled": false
   },
   "outputs": [
    {
     "data": {
      "text/plain": [
       "count    23565.000000\n",
       "mean        60.322824\n",
       "std         35.657060\n",
       "min         12.000000\n",
       "25%         40.000000\n",
       "50%         52.000000\n",
       "75%         69.700000\n",
       "max        900.000000\n",
       "Name: total_area, dtype: float64"
      ]
     },
     "execution_count": 61,
     "metadata": {},
     "output_type": "execute_result"
    }
   ],
   "source": [
    "total_area.describe()"
   ]
  },
  {
   "cell_type": "markdown",
   "metadata": {},
   "source": [
    "In the total_area column's distribution we see long heavy tail and the boxplot show us that there are some outliers. Let's check out how many outliers there it is and see it's description"
   ]
  },
  {
   "cell_type": "code",
   "execution_count": 62,
   "metadata": {},
   "outputs": [],
   "source": [
    "# Get basic info about outliers\n",
    "def get_outliers_info(bp, data):\n",
    "    def get_outliers(bp):\n",
    "        return [flier.get_ydata() for flier in bp['fliers']]\n",
    "    \n",
    "    def get_outliers_number(outliers):\n",
    "        return len(outliers[0])\n",
    "    \n",
    "    def get_outliers_ratio(outliers_number):\n",
    "        return outliers_number / data.shape[0]\n",
    "    \n",
    "    outliers = get_outliers(bp)\n",
    "    outliers_number = get_outliers_number(outliers)\n",
    "    outliers_ratio = get_outliers_ratio(outliers_number)\n",
    "    return outliers_number, outliers_ratio"
   ]
  },
  {
   "cell_type": "code",
   "execution_count": 63,
   "metadata": {},
   "outputs": [],
   "source": [
    "def print_outliers_info(outliers_number, outliers_ratio, outliers_border, column_name):\n",
    "    print('The number of outliers in {}: {}'.format(column_name, outliers_number))\n",
    "    print('The ratio of outliers in {}: {:.4f}'.format(column_name, outliers_ratio))\n",
    "    print('Outliers {} border: {:.2f}'.format(column_name, outliers_border))"
   ]
  },
  {
   "cell_type": "code",
   "execution_count": 64,
   "metadata": {
    "scrolled": true
   },
   "outputs": [
    {
     "name": "stdout",
     "output_type": "stream",
     "text": [
      "The number of outliers in total_area: 1239\n",
      "The ratio of outliers in total_area: 0.0526\n",
      "Outliers total_area border: 114.21\n"
     ]
    }
   ],
   "source": [
    "outliers_number_total_area, outliers_ratio_total_area = get_outliers_info(bp, df)\n",
    "outilers_total_area = df['total_area'].quantile(1 - outliers_ratio_total_area)\n",
    "print_outliers_info(outliers_number_total_area, outliers_ratio_total_area, outilers_total_area, 'total_area')"
   ]
  },
  {
   "cell_type": "markdown",
   "metadata": {},
   "source": [
    "So, we have 5 percents outliers and these are flats with area greater than 114 squared meters\n",
    "\n",
    "Let's look a bit closer at the total area distribution in Saint Petersburg and its countryside"
   ]
  },
  {
   "cell_type": "code",
   "execution_count": 65,
   "metadata": {},
   "outputs": [],
   "source": [
    "df['is_countryside'] = df['locality_name'] != \"Saint Petersburg\""
   ]
  },
  {
   "cell_type": "code",
   "execution_count": 66,
   "metadata": {
    "scrolled": false
   },
   "outputs": [
    {
     "data": {
      "image/png": "[encoded data removed]",
      "text/plain": [
       "<Figure size 432x288 with 1 Axes>"
      ]
     },
     "metadata": {
      "needs_background": "light"
     },
     "output_type": "display_data"
    },
    {
     "data": {
      "image/png": "[encoded data removed]",
      "text/plain": [
       "<Figure size 432x288 with 1 Axes>"
      ]
     },
     "metadata": {
      "needs_background": "light"
     },
     "output_type": "display_data"
    }
   ],
   "source": [
    "for name, group_data in df.groupby('is_countryside'):\n",
    "    ax = group_data.plot(y='total_area', kind='hist')\n",
    "    plot_label = 'Countryside' if name == True else 'Saint Petersburg'\n",
    "    ax.set_xlabel(plot_label)"
   ]
  },
  {
   "cell_type": "code",
   "execution_count": 67,
   "metadata": {},
   "outputs": [
    {
     "name": "stdout",
     "output_type": "stream",
     "text": [
      "The number of outliers in total_area: 1239\n",
      "The ratio of outliers in total_area: 0.0792\n",
      "Outliers total_area border: 111.02\n"
     ]
    },
    {
     "data": {
      "image/png": "[encoded data removed]",
      "text/plain": [
       "<Figure size 432x288 with 1 Axes>"
      ]
     },
     "metadata": {
      "needs_background": "light"
     },
     "output_type": "display_data"
    },
    {
     "name": "stdout",
     "output_type": "stream",
     "text": [
      "The number of outliers in total_area: 911\n",
      "The ratio of outliers in total_area: 0.1151\n",
      "Outliers total_area border: 73.80\n"
     ]
    },
    {
     "data": {
      "image/png": "[encoded data removed]",
      "text/plain": [
       "<Figure size 432x288 with 1 Axes>"
      ]
     },
     "metadata": {
      "needs_background": "light"
     },
     "output_type": "display_data"
    }
   ],
   "source": [
    "for name, group_data in df.groupby('is_countryside'):\n",
    "    outliers_number_total_area, outliers_ratio_total_area = get_outliers_info(bp, group_data)\n",
    "    outilers_total_area = group_data['total_area'].quantile(1 - outliers_ratio_total_area)\n",
    "    print_outliers_info(outliers_number_total_area, outliers_ratio_total_area, outilers_total_area, 'total_area')\n",
    "    ax, bp = group_data.boxplot(column='total_area', return_type='both')\n",
    "    plot_label = 'Countryside' if name == True else 'Saint Petersburg'\n",
    "    ax.set_xlabel(plot_label)\n",
    "    plt.show(block=False)"
   ]
  },
  {
   "cell_type": "markdown",
   "metadata": {},
   "source": [
    "It looks like the most of the total_area outliers are in the countryside, not in the city.\n",
    "\n",
    "We also see the big difference between outliers border in the city and the coutryside. Almost three times!\n",
    "\n",
    "I suppose that outliers in the city are just very expensive apartments and we shouldn't drop it from our dataset.\n",
    "\n",
    "So now let's look a little closer at countryside"
   ]
  },
  {
   "cell_type": "code",
   "execution_count": 68,
   "metadata": {
    "scrolled": true
   },
   "outputs": [
    {
     "data": {
      "text/plain": [
       "count    7914.000000\n",
       "mean       51.574723\n",
       "std        20.943400\n",
       "min        15.000000\n",
       "25%        37.000000\n",
       "50%        47.000000\n",
       "75%        61.000000\n",
       "max       380.000000\n",
       "Name: total_area, dtype: float64"
      ]
     },
     "execution_count": 68,
     "metadata": {},
     "output_type": "execute_result"
    }
   ],
   "source": [
    "countryside = df.query('is_countryside == True')\n",
    "countryside.describe()['total_area']"
   ]
  },
  {
   "cell_type": "code",
   "execution_count": 69,
   "metadata": {},
   "outputs": [
    {
     "name": "stdout",
     "output_type": "stream",
     "text": [
      "Saint Petersburg\n"
     ]
    },
    {
     "data": {
      "image/png": "[encoded data removed]",
      "text/plain": [
       "<Figure size 432x288 with 1 Axes>"
      ]
     },
     "metadata": {
      "needs_background": "light"
     },
     "output_type": "display_data"
    },
    {
     "name": "stdout",
     "output_type": "stream",
     "text": [
      "Countryside\n"
     ]
    },
    {
     "data": {
      "image/png": "[encoded data removed]",
      "text/plain": [
       "<Figure size 432x288 with 1 Axes>"
      ]
     },
     "metadata": {
      "needs_background": "light"
     },
     "output_type": "display_data"
    }
   ],
   "source": [
    "# Let's check dependencies between total_area, last_price and bedrooms on Saint Petersburg and Countryside\n",
    "for name, group_data in df.groupby('is_countryside'):\n",
    "    plot_label = 'Countryside' if name is True else 'Saint Petersburg'\n",
    "    print(plot_label)\n",
    "    group_data.plot(x='bedrooms', y='total_area', kind='scatter')\n",
    "    plt.show(block=False)"
   ]
  },
  {
   "cell_type": "markdown",
   "metadata": {},
   "source": [
    "I suppose that these several apartments with more than 5 bedrooms in countryside is outliers and will interfere our EDA.\n",
    "\n",
    "These are more likely exceptions than rules. So we will drop them.\n",
    "\n",
    "Also in Saint Petersburg's graph we see that there are several flats with a lot of bedrooms and relatively low total_area. We will drop them too."
   ]
  },
  {
   "cell_type": "code",
   "execution_count": 70,
   "metadata": {},
   "outputs": [],
   "source": [
    "df = df.query('(is_countryside == False and bedrooms <= 11) or (is_countryside == True and bedrooms <= 5)')"
   ]
  },
  {
   "cell_type": "code",
   "execution_count": 71,
   "metadata": {},
   "outputs": [
    {
     "data": {
      "text/plain": [
       "count    23550.000000\n",
       "mean        60.150558\n",
       "std         34.663482\n",
       "min         12.000000\n",
       "25%         40.000000\n",
       "50%         52.000000\n",
       "75%         69.600000\n",
       "max        631.200000\n",
       "Name: total_area, dtype: float64"
      ]
     },
     "execution_count": 71,
     "metadata": {},
     "output_type": "execute_result"
    }
   ],
   "source": [
    "df['total_area'].describe()"
   ]
  },
  {
   "cell_type": "code",
   "execution_count": 72,
   "metadata": {},
   "outputs": [
    {
     "data": {
      "text/plain": [
       "<matplotlib.axes._subplots.AxesSubplot at 0x7fc9cad07990>"
      ]
     },
     "execution_count": 72,
     "metadata": {},
     "output_type": "execute_result"
    },
    {
     "data": {
      "image/png": "[encoded data removed]",
      "text/plain": [
       "<Figure size 432x288 with 1 Axes>"
      ]
     },
     "metadata": {
      "needs_background": "light"
     },
     "output_type": "display_data"
    }
   ],
   "source": [
    "price = df['last_price']\n",
    "price.hist(bins=30, grid=True)"
   ]
  },
  {
   "cell_type": "code",
   "execution_count": 73,
   "metadata": {
    "scrolled": true
   },
   "outputs": [
    {
     "data": {
      "text/plain": [
       "<matplotlib.axes._subplots.AxesSubplot at 0x7fc9cabc2190>"
      ]
     },
     "execution_count": 73,
     "metadata": {},
     "output_type": "execute_result"
    },
    {
     "data": {
      "image/png": "[encoded data removed]",
      "text/plain": [
       "<Figure size 432x288 with 1 Axes>"
      ]
     },
     "metadata": {
      "needs_background": "light"
     },
     "output_type": "display_data"
    }
   ],
   "source": [
    "price.hist(bins=30, range=(0, 260000))"
   ]
  },
  {
   "cell_type": "code",
   "execution_count": 74,
   "metadata": {
    "scrolled": false
   },
   "outputs": [
    {
     "data": {
      "image/png": "[encoded data removed]",
      "text/plain": [
       "<Figure size 576x576 with 1 Axes>"
      ]
     },
     "metadata": {
      "needs_background": "light"
     },
     "output_type": "display_data"
    }
   ],
   "source": [
    "_, bp = df.boxplot(column='last_price', figsize=(8, 8), return_type='both')"
   ]
  },
  {
   "cell_type": "code",
   "execution_count": 75,
   "metadata": {},
   "outputs": [
    {
     "data": {
      "text/plain": [
       "count    2.355000e+04\n",
       "mean     1.302181e+05\n",
       "std      2.111824e+05\n",
       "min      2.440000e+02\n",
       "25%      6.800000e+04\n",
       "50%      9.262000e+04\n",
       "75%      1.353670e+05\n",
       "max      1.526000e+07\n",
       "Name: last_price, dtype: float64"
      ]
     },
     "execution_count": 75,
     "metadata": {},
     "output_type": "execute_result"
    }
   ],
   "source": [
    "price.describe()"
   ]
  },
  {
   "cell_type": "code",
   "execution_count": 76,
   "metadata": {
    "scrolled": true
   },
   "outputs": [
    {
     "data": {
      "text/html": [
       "<div>\n",
       "<style scoped>\n",
       "    .dataframe tbody tr th:only-of-type {\n",
       "        vertical-align: middle;\n",
       "    }\n",
       "\n",
       "    .dataframe tbody tr th {\n",
       "        vertical-align: top;\n",
       "    }\n",
       "\n",
       "    .dataframe thead th {\n",
       "        text-align: right;\n",
       "    }\n",
       "</style>\n",
       "<table border=\"1\" class=\"dataframe\">\n",
       "  <thead>\n",
       "    <tr style=\"text-align: right;\">\n",
       "      <th></th>\n",
       "      <th>date_posted</th>\n",
       "      <th>days_listed</th>\n",
       "      <th>last_price</th>\n",
       "      <th>bedrooms</th>\n",
       "      <th>kitchen_area</th>\n",
       "      <th>living_area</th>\n",
       "      <th>total_area</th>\n",
       "      <th>balconies</th>\n",
       "      <th>ceiling_height</th>\n",
       "      <th>floors_total</th>\n",
       "      <th>...</th>\n",
       "      <th>pond_dist</th>\n",
       "      <th>ponds_within_3000</th>\n",
       "      <th>price_per_square</th>\n",
       "      <th>weekday</th>\n",
       "      <th>month</th>\n",
       "      <th>year</th>\n",
       "      <th>floor_type</th>\n",
       "      <th>kitchen_total_ratio</th>\n",
       "      <th>living_total_ratio</th>\n",
       "      <th>is_countryside</th>\n",
       "    </tr>\n",
       "  </thead>\n",
       "  <tbody>\n",
       "    <tr>\n",
       "      <td>8750</td>\n",
       "      <td>2019-03-20</td>\n",
       "      <td>8.0</td>\n",
       "      <td>244</td>\n",
       "      <td>2</td>\n",
       "      <td>40.5</td>\n",
       "      <td>32.0</td>\n",
       "      <td>109.0</td>\n",
       "      <td>0</td>\n",
       "      <td>2.75</td>\n",
       "      <td>25</td>\n",
       "      <td>...</td>\n",
       "      <td>NaN</td>\n",
       "      <td>0</td>\n",
       "      <td>2.238532</td>\n",
       "      <td>2</td>\n",
       "      <td>3</td>\n",
       "      <td>2019</td>\n",
       "      <td>last</td>\n",
       "      <td>0.37156</td>\n",
       "      <td>0.293578</td>\n",
       "      <td>False</td>\n",
       "    </tr>\n",
       "  </tbody>\n",
       "</table>\n",
       "<p>1 rows × 30 columns</p>\n",
       "</div>"
      ],
      "text/plain": [
       "     date_posted  days_listed  last_price  bedrooms  kitchen_area  \\\n",
       "8750  2019-03-20          8.0         244         2          40.5   \n",
       "\n",
       "      living_area  total_area  balconies  ceiling_height  floors_total  ...  \\\n",
       "8750         32.0       109.0          0            2.75            25  ...   \n",
       "\n",
       "      pond_dist  ponds_within_3000  price_per_square  weekday  month  year  \\\n",
       "8750        NaN                  0          2.238532        2      3  2019   \n",
       "\n",
       "      floor_type  kitchen_total_ratio  living_total_ratio  is_countryside  \n",
       "8750        last              0.37156            0.293578           False  \n",
       "\n",
       "[1 rows x 30 columns]"
      ]
     },
     "execution_count": 76,
     "metadata": {},
     "output_type": "execute_result"
    }
   ],
   "source": [
    "df.query('last_price == last_price.min()')"
   ]
  },
  {
   "cell_type": "markdown",
   "metadata": {},
   "source": [
    "the price column min value is 244! It's obviously anomaly row and we need to filtrate our column. \n",
    "\n",
    "Let's check apartments between 9000 and the min value"
   ]
  },
  {
   "cell_type": "code",
   "execution_count": 77,
   "metadata": {},
   "outputs": [
    {
     "data": {
      "text/html": [
       "<div>\n",
       "<style scoped>\n",
       "    .dataframe tbody tr th:only-of-type {\n",
       "        vertical-align: middle;\n",
       "    }\n",
       "\n",
       "    .dataframe tbody tr th {\n",
       "        vertical-align: top;\n",
       "    }\n",
       "\n",
       "    .dataframe thead th {\n",
       "        text-align: right;\n",
       "    }\n",
       "</style>\n",
       "<table border=\"1\" class=\"dataframe\">\n",
       "  <thead>\n",
       "    <tr style=\"text-align: right;\">\n",
       "      <th></th>\n",
       "      <th>date_posted</th>\n",
       "      <th>days_listed</th>\n",
       "      <th>last_price</th>\n",
       "      <th>bedrooms</th>\n",
       "      <th>kitchen_area</th>\n",
       "      <th>living_area</th>\n",
       "      <th>total_area</th>\n",
       "      <th>balconies</th>\n",
       "      <th>ceiling_height</th>\n",
       "      <th>floors_total</th>\n",
       "      <th>...</th>\n",
       "      <th>pond_dist</th>\n",
       "      <th>ponds_within_3000</th>\n",
       "      <th>price_per_square</th>\n",
       "      <th>weekday</th>\n",
       "      <th>month</th>\n",
       "      <th>year</th>\n",
       "      <th>floor_type</th>\n",
       "      <th>kitchen_total_ratio</th>\n",
       "      <th>living_total_ratio</th>\n",
       "      <th>is_countryside</th>\n",
       "    </tr>\n",
       "  </thead>\n",
       "  <tbody>\n",
       "    <tr>\n",
       "      <td>8750</td>\n",
       "      <td>2019-03-20</td>\n",
       "      <td>8.0</td>\n",
       "      <td>244</td>\n",
       "      <td>2</td>\n",
       "      <td>40.500000</td>\n",
       "      <td>32.0000</td>\n",
       "      <td>109.0</td>\n",
       "      <td>0</td>\n",
       "      <td>2.75</td>\n",
       "      <td>25</td>\n",
       "      <td>...</td>\n",
       "      <td>NaN</td>\n",
       "      <td>0</td>\n",
       "      <td>2.238532</td>\n",
       "      <td>2</td>\n",
       "      <td>3</td>\n",
       "      <td>2019</td>\n",
       "      <td>last</td>\n",
       "      <td>0.371560</td>\n",
       "      <td>0.293578</td>\n",
       "      <td>False</td>\n",
       "    </tr>\n",
       "    <tr>\n",
       "      <td>14825</td>\n",
       "      <td>2018-06-26</td>\n",
       "      <td>44.0</td>\n",
       "      <td>8600</td>\n",
       "      <td>2</td>\n",
       "      <td>10.118063</td>\n",
       "      <td>30.4965</td>\n",
       "      <td>54.0</td>\n",
       "      <td>0</td>\n",
       "      <td>NaN</td>\n",
       "      <td>3</td>\n",
       "      <td>...</td>\n",
       "      <td>NaN</td>\n",
       "      <td>NaN</td>\n",
       "      <td>159.259259</td>\n",
       "      <td>1</td>\n",
       "      <td>6</td>\n",
       "      <td>2018</td>\n",
       "      <td>last</td>\n",
       "      <td>0.187372</td>\n",
       "      <td>0.564750</td>\n",
       "      <td>True</td>\n",
       "    </tr>\n",
       "    <tr>\n",
       "      <td>16185</td>\n",
       "      <td>2018-07-10</td>\n",
       "      <td>45.0</td>\n",
       "      <td>8800</td>\n",
       "      <td>1</td>\n",
       "      <td>7.494861</td>\n",
       "      <td>22.5900</td>\n",
       "      <td>40.0</td>\n",
       "      <td>0</td>\n",
       "      <td>NaN</td>\n",
       "      <td>5</td>\n",
       "      <td>...</td>\n",
       "      <td>NaN</td>\n",
       "      <td>NaN</td>\n",
       "      <td>220.000000</td>\n",
       "      <td>1</td>\n",
       "      <td>7</td>\n",
       "      <td>2018</td>\n",
       "      <td>first</td>\n",
       "      <td>0.187372</td>\n",
       "      <td>0.564750</td>\n",
       "      <td>True</td>\n",
       "    </tr>\n",
       "    <tr>\n",
       "      <td>17359</td>\n",
       "      <td>2019-04-22</td>\n",
       "      <td>NaN</td>\n",
       "      <td>8600</td>\n",
       "      <td>1</td>\n",
       "      <td>6.000000</td>\n",
       "      <td>16.0000</td>\n",
       "      <td>30.4</td>\n",
       "      <td>0</td>\n",
       "      <td>NaN</td>\n",
       "      <td>2</td>\n",
       "      <td>...</td>\n",
       "      <td>NaN</td>\n",
       "      <td>NaN</td>\n",
       "      <td>282.894737</td>\n",
       "      <td>0</td>\n",
       "      <td>4</td>\n",
       "      <td>2019</td>\n",
       "      <td>first</td>\n",
       "      <td>0.197368</td>\n",
       "      <td>0.526316</td>\n",
       "      <td>True</td>\n",
       "    </tr>\n",
       "  </tbody>\n",
       "</table>\n",
       "<p>4 rows × 30 columns</p>\n",
       "</div>"
      ],
      "text/plain": [
       "      date_posted  days_listed  last_price  bedrooms  kitchen_area  \\\n",
       "8750   2019-03-20          8.0         244         2     40.500000   \n",
       "14825  2018-06-26         44.0        8600         2     10.118063   \n",
       "16185  2018-07-10         45.0        8800         1      7.494861   \n",
       "17359  2019-04-22          NaN        8600         1      6.000000   \n",
       "\n",
       "       living_area  total_area  balconies  ceiling_height  floors_total  ...  \\\n",
       "8750       32.0000       109.0          0            2.75            25  ...   \n",
       "14825      30.4965        54.0          0             NaN             3  ...   \n",
       "16185      22.5900        40.0          0             NaN             5  ...   \n",
       "17359      16.0000        30.4          0             NaN             2  ...   \n",
       "\n",
       "       pond_dist  ponds_within_3000  price_per_square  weekday  month  year  \\\n",
       "8750         NaN                  0          2.238532        2      3  2019   \n",
       "14825        NaN                NaN        159.259259        1      6  2018   \n",
       "16185        NaN                NaN        220.000000        1      7  2018   \n",
       "17359        NaN                NaN        282.894737        0      4  2019   \n",
       "\n",
       "       floor_type  kitchen_total_ratio  living_total_ratio  is_countryside  \n",
       "8750         last             0.371560            0.293578           False  \n",
       "14825        last             0.187372            0.564750            True  \n",
       "16185       first             0.187372            0.564750            True  \n",
       "17359       first             0.197368            0.526316            True  \n",
       "\n",
       "[4 rows x 30 columns]"
      ]
     },
     "execution_count": 77,
     "metadata": {},
     "output_type": "execute_result"
    }
   ],
   "source": [
    "df.query('last_price < 9000')"
   ]
  },
  {
   "cell_type": "markdown",
   "metadata": {},
   "source": [
    "We see that there is just one anomaly entry with a strange small price. Let's just drop it from our data"
   ]
  },
  {
   "cell_type": "code",
   "execution_count": 78,
   "metadata": {},
   "outputs": [],
   "source": [
    "df = df.query('last_price > last_price.min()')"
   ]
  },
  {
   "cell_type": "code",
   "execution_count": 79,
   "metadata": {},
   "outputs": [
    {
     "data": {
      "text/plain": [
       "count    2.354900e+04\n",
       "mean     1.302237e+05\n",
       "std      2.111852e+05\n",
       "min      8.600000e+03\n",
       "25%      6.800000e+04\n",
       "50%      9.264000e+04\n",
       "75%      1.354000e+05\n",
       "max      1.526000e+07\n",
       "Name: last_price, dtype: float64"
      ]
     },
     "execution_count": 79,
     "metadata": {},
     "output_type": "execute_result"
    }
   ],
   "source": [
    "price = df['last_price']\n",
    "price.describe()"
   ]
  },
  {
   "cell_type": "code",
   "execution_count": 80,
   "metadata": {
    "scrolled": false
   },
   "outputs": [
    {
     "data": {
      "image/png": "[encoded data removed]",
      "text/plain": [
       "<Figure size 576x576 with 1 Axes>"
      ]
     },
     "metadata": {
      "needs_background": "light"
     },
     "output_type": "display_data"
    }
   ],
   "source": [
    "_, bp = df.boxplot(column='last_price', figsize=(8, 8), return_type='both')"
   ]
  },
  {
   "cell_type": "code",
   "execution_count": 81,
   "metadata": {},
   "outputs": [
    {
     "data": {
      "text/plain": [
       "<matplotlib.axes._subplots.AxesSubplot at 0x7fc9ca94f850>"
      ]
     },
     "execution_count": 81,
     "metadata": {},
     "output_type": "execute_result"
    },
    {
     "data": {
      "image/png": "[encoded data removed]",
      "text/plain": [
       "<Figure size 432x288 with 1 Axes>"
      ]
     },
     "metadata": {
      "needs_background": "light"
     },
     "output_type": "display_data"
    }
   ],
   "source": [
    "price.hist(bins=30)"
   ]
  },
  {
   "cell_type": "code",
   "execution_count": 82,
   "metadata": {
    "scrolled": true
   },
   "outputs": [
    {
     "data": {
      "text/plain": [
       "<matplotlib.axes._subplots.AxesSubplot at 0x7fc9ca948f90>"
      ]
     },
     "execution_count": 82,
     "metadata": {},
     "output_type": "execute_result"
    },
    {
     "data": {
      "image/png": "[encoded data removed]",
      "text/plain": [
       "<Figure size 432x288 with 1 Axes>"
      ]
     },
     "metadata": {
      "needs_background": "light"
     },
     "output_type": "display_data"
    }
   ],
   "source": [
    "price.hist(bins=30, range=(0, 250000))"
   ]
  },
  {
   "cell_type": "markdown",
   "metadata": {},
   "source": [
    "Now it seems pretty good. Let's calculate outliers"
   ]
  },
  {
   "cell_type": "code",
   "execution_count": 83,
   "metadata": {},
   "outputs": [
    {
     "name": "stdout",
     "output_type": "stream",
     "text": [
      "The number of outliers in last_price: 2038\n",
      "The ratio of outliers in last_price: 0.0865\n",
      "Outliers last_price border: 236434.62\n"
     ]
    }
   ],
   "source": [
    "outliers_number_last_price, outliers_ratio_last_price = get_outliers_info(bp, df)\n",
    "outilers_price_last_price = df['last_price'].quantile(1 - outliers_ratio_last_price)\n",
    "print_outliers_info(outliers_number_last_price, outliers_ratio_last_price, outilers_price_last_price, 'last_price')"
   ]
  },
  {
   "cell_type": "code",
   "execution_count": 84,
   "metadata": {
    "scrolled": true
   },
   "outputs": [
    {
     "data": {
      "text/plain": [
       "count    23549.000000\n",
       "mean         2.065693\n",
       "std          1.054917\n",
       "min          0.000000\n",
       "25%          1.000000\n",
       "50%          2.000000\n",
       "75%          3.000000\n",
       "max         11.000000\n",
       "Name: bedrooms, dtype: float64"
      ]
     },
     "execution_count": 84,
     "metadata": {},
     "output_type": "execute_result"
    }
   ],
   "source": [
    "number_of_rooms = df['bedrooms']\n",
    "number_of_rooms.describe()"
   ]
  },
  {
   "cell_type": "code",
   "execution_count": 85,
   "metadata": {},
   "outputs": [
    {
     "data": {
      "text/plain": [
       "<matplotlib.axes._subplots.AxesSubplot at 0x7fc9cae91150>"
      ]
     },
     "execution_count": 85,
     "metadata": {},
     "output_type": "execute_result"
    },
    {
     "data": {
      "image/png": "[encoded data removed]",
      "text/plain": [
       "<Figure size 432x288 with 1 Axes>"
      ]
     },
     "metadata": {
      "needs_background": "light"
     },
     "output_type": "display_data"
    }
   ],
   "source": [
    "number_of_rooms.hist(bins=20)"
   ]
  },
  {
   "cell_type": "code",
   "execution_count": 86,
   "metadata": {},
   "outputs": [
    {
     "data": {
      "image/png": "[encoded data removed]",
      "text/plain": [
       "<Figure size 576x576 with 1 Axes>"
      ]
     },
     "metadata": {
      "needs_background": "light"
     },
     "output_type": "display_data"
    }
   ],
   "source": [
    "_, bp = df.boxplot(column='bedrooms', figsize=(8, 8), return_type='both')"
   ]
  },
  {
   "cell_type": "code",
   "execution_count": 87,
   "metadata": {
    "scrolled": true
   },
   "outputs": [
    {
     "name": "stdout",
     "output_type": "stream",
     "text": [
      "The number of outliers in bedrooms: 81\n",
      "The ratio of outliers in bedrooms: 0.0034\n",
      "Outliers bedrooms border: 6.00\n"
     ]
    }
   ],
   "source": [
    "outliers_number_bedrooms, outliers_ratio_bedrooms = get_outliers_info(bp, df)\n",
    "outilers_price_bedrooms = df['bedrooms'].quantile(1 - outliers_ratio_bedrooms)\n",
    "print_outliers_info(outliers_number_bedrooms, outliers_ratio_bedrooms, outilers_price_bedrooms, 'bedrooms')"
   ]
  },
  {
   "cell_type": "code",
   "execution_count": 88,
   "metadata": {
    "scrolled": false
   },
   "outputs": [
    {
     "data": {
      "text/plain": [
       "count    14474.000000\n",
       "mean         2.771127\n",
       "std          1.262252\n",
       "min          1.000000\n",
       "25%          2.510000\n",
       "50%          2.650000\n",
       "75%          2.800000\n",
       "max        100.000000\n",
       "Name: ceiling_height, dtype: float64"
      ]
     },
     "execution_count": 88,
     "metadata": {},
     "output_type": "execute_result"
    }
   ],
   "source": [
    "ceiling_height = df['ceiling_height']\n",
    "ceiling_height.describe()"
   ]
  },
  {
   "cell_type": "code",
   "execution_count": 89,
   "metadata": {},
   "outputs": [
    {
     "data": {
      "text/plain": [
       "count    14471.000000\n",
       "mean         2.771428\n",
       "std          1.262201\n",
       "min          2.000000\n",
       "25%          2.510000\n",
       "50%          2.650000\n",
       "75%          2.800000\n",
       "max        100.000000\n",
       "Name: ceiling_height, dtype: float64"
      ]
     },
     "execution_count": 89,
     "metadata": {},
     "output_type": "execute_result"
    }
   ],
   "source": [
    "# the minimal value of the column is 1 meters and it seems like outlier. \n",
    "# Let's take flats with minimum value of ceil is 2 meters\n",
    "df = df.query('ceiling_height >= 2 or ceiling_height.isnull()')\n",
    "ceiling_height = df['ceiling_height']\n",
    "ceiling_height.describe()"
   ]
  },
  {
   "cell_type": "code",
   "execution_count": 90,
   "metadata": {
    "scrolled": true
   },
   "outputs": [
    {
     "data": {
      "text/plain": [
       "<matplotlib.axes._subplots.AxesSubplot at 0x7fc9cab83110>"
      ]
     },
     "execution_count": 90,
     "metadata": {},
     "output_type": "execute_result"
    },
    {
     "data": {
      "image/png": "[encoded data removed]",
      "text/plain": [
       "<Figure size 432x288 with 1 Axes>"
      ]
     },
     "metadata": {
      "needs_background": "light"
     },
     "output_type": "display_data"
    }
   ],
   "source": [
    "ceiling_height.hist(range=(2, 6))"
   ]
  },
  {
   "cell_type": "code",
   "execution_count": 91,
   "metadata": {
    "scrolled": false
   },
   "outputs": [
    {
     "data": {
      "image/png": "[encoded data removed]",
      "text/plain": [
       "<Figure size 576x576 with 1 Axes>"
      ]
     },
     "metadata": {
      "needs_background": "light"
     },
     "output_type": "display_data"
    }
   ],
   "source": [
    "_, bp = df.boxplot(column='ceiling_height', figsize=(8, 8), return_type='both')"
   ]
  },
  {
   "cell_type": "code",
   "execution_count": 92,
   "metadata": {
    "scrolled": true
   },
   "outputs": [
    {
     "name": "stdout",
     "output_type": "stream",
     "text": [
      "The number of outliers in ceiling_height: 814\n",
      "The ratio of outliers in ceiling_height: 0.0346\n",
      "Outliers ceiling_height border: 3.40\n"
     ]
    }
   ],
   "source": [
    "outliers_number_ceiling_height, outliers_ratio_ceiling_height = get_outliers_info(bp, df)\n",
    "outilers_price_ceiling_height = df['ceiling_height'].quantile(1 - outliers_ratio_ceiling_height)\n",
    "print_outliers_info(outliers_number_ceiling_height, outliers_ratio_ceiling_height, outilers_price_ceiling_height, 'ceiling_height')"
   ]
  },
  {
   "cell_type": "code",
   "execution_count": 93,
   "metadata": {},
   "outputs": [
    {
     "data": {
      "text/plain": [
       "count    14471.000000\n",
       "mean         2.771428\n",
       "std          1.262201\n",
       "min          2.000000\n",
       "25%          2.510000\n",
       "50%          2.650000\n",
       "75%          2.800000\n",
       "max        100.000000\n",
       "Name: ceiling_height, dtype: float64"
      ]
     },
     "execution_count": 93,
     "metadata": {},
     "output_type": "execute_result"
    }
   ],
   "source": [
    "df['ceiling_height'].describe()"
   ]
  },
  {
   "cell_type": "markdown",
   "metadata": {},
   "source": [
    "I suppose that there can't be any ceiling height higher than outlier border.\n",
    "\n",
    "But before we drop it from our data, let's look at bit closer at the anomaly flats."
   ]
  },
  {
   "cell_type": "code",
   "execution_count": 94,
   "metadata": {},
   "outputs": [
    {
     "data": {
      "text/plain": [
       "<matplotlib.axes._subplots.AxesSubplot at 0x7fc9ca8ac290>"
      ]
     },
     "execution_count": 94,
     "metadata": {},
     "output_type": "execute_result"
    },
    {
     "data": {
      "image/png": "[encoded data removed]",
      "text/plain": [
       "<Figure size 432x288 with 1 Axes>"
      ]
     },
     "metadata": {
      "needs_background": "light"
     },
     "output_type": "display_data"
    }
   ],
   "source": [
    "df.query('ceiling_height > 3.4')['ceiling_height'].hist(range=(3.4, 4.0))"
   ]
  },
  {
   "cell_type": "markdown",
   "metadata": {},
   "source": [
    "I suppose that there can't be apartments with the ceiling height more than 3.5 meters. So I'll drop it."
   ]
  },
  {
   "cell_type": "code",
   "execution_count": 95,
   "metadata": {},
   "outputs": [],
   "source": [
    "df = df.query('ceiling_height <= 3.5 or ceiling_height.isnull()')"
   ]
  },
  {
   "cell_type": "code",
   "execution_count": 96,
   "metadata": {
    "scrolled": true
   },
   "outputs": [
    {
     "data": {
      "text/plain": [
       "count    14169.000000\n",
       "mean         2.704117\n",
       "std          0.223656\n",
       "min          2.000000\n",
       "25%          2.500000\n",
       "50%          2.650000\n",
       "75%          2.800000\n",
       "max          3.500000\n",
       "Name: ceiling_height, dtype: float64"
      ]
     },
     "execution_count": 96,
     "metadata": {},
     "output_type": "execute_result"
    }
   ],
   "source": [
    "df['ceiling_height'].describe()"
   ]
  },
  {
   "cell_type": "code",
   "execution_count": 100,
   "metadata": {
    "scrolled": true
   },
   "outputs": [
    {
     "data": {
      "text/plain": [
       "<matplotlib.axes._subplots.AxesSubplot at 0x7fc9ca5a9610>"
      ]
     },
     "execution_count": 100,
     "metadata": {},
     "output_type": "execute_result"
    },
    {
     "data": {
      "image/png": "[encoded data removed]",
      "text/plain": [
       "<Figure size 432x288 with 1 Axes>"
      ]
     },
     "metadata": {
      "needs_background": "light"
     },
     "output_type": "display_data"
    }
   ],
   "source": [
    "# Let's examine the days_listed column\n",
    "df['days_listed'].hist(bins=100)"
   ]
  },
  {
   "cell_type": "code",
   "execution_count": 101,
   "metadata": {
    "scrolled": true
   },
   "outputs": [
    {
     "data": {
      "text/plain": [
       "<matplotlib.axes._subplots.AxesSubplot at 0x7fc9caef7c90>"
      ]
     },
     "execution_count": 101,
     "metadata": {},
     "output_type": "execute_result"
    },
    {
     "data": {
      "image/png": "[encoded data removed]",
      "text/plain": [
       "<Figure size 432x288 with 1 Axes>"
      ]
     },
     "metadata": {
      "needs_background": "light"
     },
     "output_type": "display_data"
    }
   ],
   "source": [
    "df['days_listed'].hist(bins=50, range=(0, 600))"
   ]
  },
  {
   "cell_type": "code",
   "execution_count": 102,
   "metadata": {},
   "outputs": [
    {
     "data": {
      "text/plain": [
       "count    20141.000000\n",
       "mean       179.703341\n",
       "std        218.678018\n",
       "min          1.000000\n",
       "25%         45.000000\n",
       "50%         95.000000\n",
       "75%        229.000000\n",
       "max       1580.000000\n",
       "Name: days_listed, dtype: float64"
      ]
     },
     "execution_count": 102,
     "metadata": {},
     "output_type": "execute_result"
    }
   ],
   "source": [
    "df['days_listed'].describe()"
   ]
  },
  {
   "cell_type": "markdown",
   "metadata": {},
   "source": [
    "The most of the apartments sale for 103 days but mean is much more than median value.\n",
    "\n",
    "It may be caused just old ads of bad valuable flats."
   ]
  },
  {
   "cell_type": "code",
   "execution_count": 103,
   "metadata": {},
   "outputs": [
    {
     "data": {
      "text/plain": [
       "days_listed            1.000000\n",
       "last_price             0.072506\n",
       "bedrooms               0.121792\n",
       "kitchen_area           0.107295\n",
       "living_area            0.141312\n",
       "total_area             0.147909\n",
       "balconies             -0.027977\n",
       "ceiling_height         0.125593\n",
       "floors_total          -0.048543\n",
       "floor                 -0.036793\n",
       "total_images          -0.029604\n",
       "bike_parking           0.007488\n",
       "is_studio             -0.021086\n",
       "is_open_plan          -0.023542\n",
       "airport_dist          -0.016446\n",
       "city_center_dist      -0.053233\n",
       "park_dist              0.027224\n",
       "parks_within_3000      0.055698\n",
       "pond_dist             -0.082350\n",
       "ponds_within_3000      0.070755\n",
       "price_per_square       0.037777\n",
       "weekday               -0.023684\n",
       "month                 -0.029516\n",
       "year                  -0.610984\n",
       "kitchen_total_ratio   -0.038835\n",
       "living_total_ratio     0.009372\n",
       "is_countryside        -0.009930\n",
       "Name: days_listed, dtype: float64"
      ]
     },
     "execution_count": 103,
     "metadata": {},
     "output_type": "execute_result"
    }
   ],
   "source": [
    "df.corr()['days_listed']"
   ]
  },
  {
   "cell_type": "markdown",
   "metadata": {},
   "source": [
    "There is no any serious correlation between days_listed and other variables"
   ]
  },
  {
   "cell_type": "code",
   "execution_count": 104,
   "metadata": {},
   "outputs": [
    {
     "data": {
      "image/png": "[encoded data removed]",
      "text/plain": [
       "<Figure size 504x504 with 1 Axes>"
      ]
     },
     "metadata": {
      "needs_background": "light"
     },
     "output_type": "display_data"
    }
   ],
   "source": [
    "_, bp = df.boxplot(column='days_listed', figsize=(7,7), return_type='both')"
   ]
  },
  {
   "cell_type": "code",
   "execution_count": 105,
   "metadata": {},
   "outputs": [
    {
     "name": "stdout",
     "output_type": "stream",
     "text": [
      "The number of outliers in days_listed: 1663\n",
      "The ratio of outliers in days_listed: 0.0715\n",
      "Outliers days_listed border: 549.00\n"
     ]
    }
   ],
   "source": [
    "outliers_number_days_listed, outliers_ratio_days_listed = get_outliers_info(bp, df)\n",
    "outilers_price_days_listed = df['days_listed'].quantile(1 - outliers_ratio_days_listed)\n",
    "print_outliers_info(outliers_number_days_listed, outliers_ratio_days_listed, outilers_price_days_listed, 'days_listed')"
   ]
  },
  {
   "cell_type": "markdown",
   "metadata": {},
   "source": [
    "We have six percents of outliers and I suppose that these are just old ads which are not in top for a long time.\n",
    "\n",
    "Let's check it"
   ]
  },
  {
   "cell_type": "code",
   "execution_count": 106,
   "metadata": {
    "scrolled": true
   },
   "outputs": [
    {
     "data": {
      "text/plain": [
       "<matplotlib.axes._subplots.AxesSubplot at 0x7fc9c950b7d0>"
      ]
     },
     "execution_count": 106,
     "metadata": {},
     "output_type": "execute_result"
    },
    {
     "data": {
      "image/png": "[encoded data removed]",
      "text/plain": [
       "<Figure size 432x288 with 1 Axes>"
      ]
     },
     "metadata": {
      "needs_background": "light"
     },
     "output_type": "display_data"
    }
   ],
   "source": [
    "df.query('days_listed > 549').boxplot(column='year')"
   ]
  },
  {
   "cell_type": "code",
   "execution_count": 107,
   "metadata": {},
   "outputs": [
    {
     "data": {
      "text/plain": [
       "count    23244.000000\n",
       "mean      2017.372913\n",
       "std          1.036062\n",
       "min       2014.000000\n",
       "25%       2017.000000\n",
       "50%       2017.000000\n",
       "75%       2018.000000\n",
       "max       2019.000000\n",
       "Name: year, dtype: float64"
      ]
     },
     "execution_count": 107,
     "metadata": {},
     "output_type": "execute_result"
    }
   ],
   "source": [
    "df['year'].describe()"
   ]
  },
  {
   "cell_type": "code",
   "execution_count": 108,
   "metadata": {
    "scrolled": true
   },
   "outputs": [
    {
     "data": {
      "text/plain": [
       "<matplotlib.axes._subplots.AxesSubplot at 0x7fc9ca347710>"
      ]
     },
     "execution_count": 108,
     "metadata": {},
     "output_type": "execute_result"
    },
    {
     "data": {
      "image/png": "[encoded data removed]",
      "text/plain": [
       "<Figure size 432x288 with 1 Axes>"
      ]
     },
     "metadata": {
      "needs_background": "light"
     },
     "output_type": "display_data"
    }
   ],
   "source": [
    "df.plot(x='last_price', y='days_listed', kind='scatter')"
   ]
  },
  {
   "cell_type": "code",
   "execution_count": 109,
   "metadata": {
    "scrolled": false
   },
   "outputs": [
    {
     "data": {
      "text/html": [
       "<div>\n",
       "<style scoped>\n",
       "    .dataframe tbody tr th:only-of-type {\n",
       "        vertical-align: middle;\n",
       "    }\n",
       "\n",
       "    .dataframe tbody tr th {\n",
       "        vertical-align: top;\n",
       "    }\n",
       "\n",
       "    .dataframe thead th {\n",
       "        text-align: right;\n",
       "    }\n",
       "</style>\n",
       "<table border=\"1\" class=\"dataframe\">\n",
       "  <thead>\n",
       "    <tr style=\"text-align: right;\">\n",
       "      <th></th>\n",
       "      <th>last_price</th>\n",
       "      <th>total_area</th>\n",
       "      <th>ceiling_height</th>\n",
       "      <th>bedrooms</th>\n",
       "      <th>days_listed</th>\n",
       "    </tr>\n",
       "  </thead>\n",
       "  <tbody>\n",
       "    <tr>\n",
       "      <td>last_price</td>\n",
       "      <td>1.000000</td>\n",
       "      <td>0.620932</td>\n",
       "      <td>0.386103</td>\n",
       "      <td>0.340949</td>\n",
       "      <td>0.072506</td>\n",
       "    </tr>\n",
       "    <tr>\n",
       "      <td>total_area</td>\n",
       "      <td>0.620932</td>\n",
       "      <td>1.000000</td>\n",
       "      <td>0.464357</td>\n",
       "      <td>0.758666</td>\n",
       "      <td>0.147909</td>\n",
       "    </tr>\n",
       "    <tr>\n",
       "      <td>ceiling_height</td>\n",
       "      <td>0.386103</td>\n",
       "      <td>0.464357</td>\n",
       "      <td>1.000000</td>\n",
       "      <td>0.269949</td>\n",
       "      <td>0.125593</td>\n",
       "    </tr>\n",
       "    <tr>\n",
       "      <td>bedrooms</td>\n",
       "      <td>0.340949</td>\n",
       "      <td>0.758666</td>\n",
       "      <td>0.269949</td>\n",
       "      <td>1.000000</td>\n",
       "      <td>0.121792</td>\n",
       "    </tr>\n",
       "    <tr>\n",
       "      <td>days_listed</td>\n",
       "      <td>0.072506</td>\n",
       "      <td>0.147909</td>\n",
       "      <td>0.125593</td>\n",
       "      <td>0.121792</td>\n",
       "      <td>1.000000</td>\n",
       "    </tr>\n",
       "  </tbody>\n",
       "</table>\n",
       "</div>"
      ],
      "text/plain": [
       "                last_price  total_area  ceiling_height  bedrooms  days_listed\n",
       "last_price        1.000000    0.620932        0.386103  0.340949     0.072506\n",
       "total_area        0.620932    1.000000        0.464357  0.758666     0.147909\n",
       "ceiling_height    0.386103    0.464357        1.000000  0.269949     0.125593\n",
       "bedrooms          0.340949    0.758666        0.269949  1.000000     0.121792\n",
       "days_listed       0.072506    0.147909        0.125593  0.121792     1.000000"
      ]
     },
     "execution_count": 109,
     "metadata": {},
     "output_type": "execute_result"
    }
   ],
   "source": [
    "# Now let's check corr matrix for these five parameters of our dataset\n",
    "interesting_frame = df.loc[:, ['last_price', 'total_area', 'ceiling_height', 'bedrooms', 'days_listed']]\n",
    "interesting_frame.corr()"
   ]
  },
  {
   "cell_type": "markdown",
   "metadata": {},
   "source": [
    "It seems like the total_area and the last_price columns is high correlated. Also the last_price is influenced by the ceiling height and the number of bedrooms"
   ]
  },
  {
   "cell_type": "code",
   "execution_count": 110,
   "metadata": {},
   "outputs": [],
   "source": [
    "def scatter_plots(data, dependent_variable, independent_variables):\n",
    "    for variable in independent_variables:\n",
    "        data.plot(x=variable, y=dependent_variable, kind='scatter')\n",
    "        plt.show(block=False)"
   ]
  },
  {
   "cell_type": "code",
   "execution_count": 111,
   "metadata": {
    "scrolled": true
   },
   "outputs": [
    {
     "data": {
      "image/png": "[encoded data removed]",
      "text/plain": [
       "<Figure size 432x288 with 1 Axes>"
      ]
     },
     "metadata": {
      "needs_background": "light"
     },
     "output_type": "display_data"
    },
    {
     "data": {
      "image/png": "[encoded data removed]",
      "text/plain": [
       "<Figure size 432x288 with 1 Axes>"
      ]
     },
     "metadata": {
      "needs_background": "light"
     },
     "output_type": "display_data"
    },
    {
     "data": {
      "image/png": "[encoded data removed]",
      "text/plain": [
       "<Figure size 432x288 with 1 Axes>"
      ]
     },
     "metadata": {
      "needs_background": "light"
     },
     "output_type": "display_data"
    }
   ],
   "source": [
    "# Now let's examine interconnection between the apartment's price and other variables.\n",
    "# At first let's consider the total square area, number of rooms,\n",
    "# floor type and the proximity to the city center area.\n",
    "interesting_columns = ['total_area', 'bedrooms', 'city_center_dist']\n",
    "\n",
    "scatter_plots(df, 'last_price', interesting_columns)"
   ]
  },
  {
   "cell_type": "code",
   "execution_count": 638,
   "metadata": {
    "scrolled": false
   },
   "outputs": [
    {
     "data": {
      "text/plain": [
       "total_area          0.620932\n",
       "bedrooms            0.340949\n",
       "city_center_dist   -0.204764\n",
       "last_price          1.000000\n",
       "Name: last_price, dtype: float64"
      ]
     },
     "execution_count": 638,
     "metadata": {},
     "output_type": "execute_result"
    }
   ],
   "source": [
    "df[interesting_columns + ['last_price']].corr()['last_price']"
   ]
  },
  {
   "cell_type": "markdown",
   "metadata": {},
   "source": [
    "We see an obvious correlation between the price and the total area.\n",
    "\n",
    "Doesn't seem that the number of bedrooms has strong effect on the price.\n",
    "\n",
    "The most strange scatter plot is between the city center distance and the price. \n",
    "\n",
    "We have approximately the same price on flats in the center and far from it. There are some outliers which are caused by it's location in the center may be."
   ]
  },
  {
   "cell_type": "code",
   "execution_count": 113,
   "metadata": {
    "scrolled": true
   },
   "outputs": [
    {
     "data": {
      "text/plain": [
       "other    17111\n",
       "last      3256\n",
       "first     2877\n",
       "Name: floor_type, dtype: int64"
      ]
     },
     "execution_count": 113,
     "metadata": {},
     "output_type": "execute_result"
    }
   ],
   "source": [
    "# Since floor_type is categorical variable, let's see at boxplots of the last_price for every type of floor\n",
    "df['floor_type'].value_counts()"
   ]
  },
  {
   "cell_type": "code",
   "execution_count": 114,
   "metadata": {},
   "outputs": [],
   "source": [
    "def plot_boxplots(data, feature, column, ylim=150000):\n",
    "    feature_types = data[feature].unique()\n",
    "    feature_types = sorted(feature_types)\n",
    "    fix, ax = plt.subplots(1, len(feature_types), figsize=(17, 6))\n",
    "    \n",
    "    for i, feature_type in enumerate(feature_types):\n",
    "        ax[i].set_ylim(0, ylim)\n",
    "        ax[i].set_xlabel(feature_type)\n",
    "        data[data[feature] == feature_type].boxplot(column, ax=ax[i])"
   ]
  },
  {
   "cell_type": "code",
   "execution_count": 115,
   "metadata": {
    "scrolled": false
   },
   "outputs": [
    {
     "data": {
      "image/png": "[encoded data removed]",
      "text/plain": [
       "<Figure size 1224x432 with 3 Axes>"
      ]
     },
     "metadata": {
      "needs_background": "light"
     },
     "output_type": "display_data"
    }
   ],
   "source": [
    "plot_boxplots(df, 'floor_type', 'last_price')"
   ]
  },
  {
   "cell_type": "markdown",
   "metadata": {},
   "source": [
    "I've supposed that appartments on the last floor would be the most expensive, but i was wrong.\n",
    "\n",
    "The smallest median is among flats on the first floor."
   ]
  },
  {
   "cell_type": "code",
   "execution_count": 122,
   "metadata": {
    "scrolled": true
   },
   "outputs": [
    {
     "data": {
      "image/png": "[encoded data removed]",
      "text/plain": [
       "<Figure size 432x288 with 1 Axes>"
      ]
     },
     "metadata": {
      "needs_background": "light"
     },
     "output_type": "display_data"
    },
    {
     "data": {
      "image/png": "[encoded data removed]",
      "text/plain": [
       "<Figure size 432x288 with 1 Axes>"
      ]
     },
     "metadata": {
      "needs_background": "light"
     },
     "output_type": "display_data"
    },
    {
     "data": {
      "image/png": "[encoded data removed]",
      "text/plain": [
       "<Figure size 432x288 with 1 Axes>"
      ]
     },
     "metadata": {
      "needs_background": "light"
     },
     "output_type": "display_data"
    }
   ],
   "source": [
    "# Now let's examine interconnection between the price and the date\n",
    "datetime_columns = ['weekday', 'month', 'year']\n",
    "\n",
    "scatter_plots(df, 'last_price', datetime_columns)"
   ]
  },
  {
   "cell_type": "markdown",
   "metadata": {},
   "source": [
    "Also, let's consider boxplots for every feature"
   ]
  },
  {
   "cell_type": "code",
   "execution_count": 123,
   "metadata": {},
   "outputs": [
    {
     "data": {
      "image/png": "[encoded data removed]",
      "text/plain": [
       "<Figure size 1332x756 with 1 Axes>"
      ]
     },
     "metadata": {
      "needs_background": "light"
     },
     "output_type": "display_data"
    },
    {
     "data": {
      "image/png": "[encoded data removed]",
      "text/plain": [
       "<Figure size 1332x756 with 1 Axes>"
      ]
     },
     "metadata": {
      "needs_background": "light"
     },
     "output_type": "display_data"
    },
    {
     "data": {
      "image/png": "[encoded data removed]",
      "text/plain": [
       "<Figure size 1332x756 with 1 Axes>"
      ]
     },
     "metadata": {
      "needs_background": "light"
     },
     "output_type": "display_data"
    }
   ],
   "source": [
    "for column in datetime_columns:\n",
    "    fig, ax = plt.subplots()\n",
    "    fig.set_size_inches(18.5, 10.5, forward=True)\n",
    "    ax.set_ylim(0, 200000)\n",
    "    df.boxplot(column='last_price', by=column, ax=ax)"
   ]
  },
  {
   "cell_type": "markdown",
   "metadata": {},
   "source": [
    "The most expensive real estate were posted in Tuesday.\n",
    "\n",
    "It's hard to see from boxplots, but in scatter plot we can see that there are two peaks on the month graph: February and August. The real estate in these months is really expensive\n",
    "\n",
    "The median price over year suddenly fell down from 2014 to 2016 and began to rise from 2017 to 2019"
   ]
  },
  {
   "cell_type": "markdown",
   "metadata": {},
   "source": [
    "### The most expensive real estate - locality_name"
   ]
  },
  {
   "cell_type": "code",
   "execution_count": 124,
   "metadata": {},
   "outputs": [],
   "source": [
    "top10_localities = df['locality_name'].value_counts()[:10]"
   ]
  },
  {
   "cell_type": "code",
   "execution_count": 125,
   "metadata": {
    "scrolled": false
   },
   "outputs": [
    {
     "data": {
      "text/plain": [
       "Saint Petersburg     15375\n",
       "Murino village         550\n",
       "Shushary village       438\n",
       "Vsevolozhsk            396\n",
       "Pushkin                361\n",
       "Kolpino                337\n",
       "Pargolovo village      326\n",
       "Gatchina               305\n",
       "Kudrovo village        299\n",
       "Vyborg                 232\n",
       "Name: locality_name, dtype: int64"
      ]
     },
     "execution_count": 125,
     "metadata": {},
     "output_type": "execute_result"
    }
   ],
   "source": [
    "top10_localities"
   ]
  },
  {
   "cell_type": "code",
   "execution_count": 126,
   "metadata": {},
   "outputs": [
    {
     "data": {
      "text/html": [
       "<div>\n",
       "<style scoped>\n",
       "    .dataframe tbody tr th:only-of-type {\n",
       "        vertical-align: middle;\n",
       "    }\n",
       "\n",
       "    .dataframe tbody tr th {\n",
       "        vertical-align: top;\n",
       "    }\n",
       "\n",
       "    .dataframe thead th {\n",
       "        text-align: right;\n",
       "    }\n",
       "</style>\n",
       "<table border=\"1\" class=\"dataframe\">\n",
       "  <thead>\n",
       "    <tr style=\"text-align: right;\">\n",
       "      <th></th>\n",
       "      <th>date_posted</th>\n",
       "      <th>days_listed</th>\n",
       "      <th>last_price</th>\n",
       "      <th>bedrooms</th>\n",
       "      <th>kitchen_area</th>\n",
       "      <th>living_area</th>\n",
       "      <th>total_area</th>\n",
       "      <th>balconies</th>\n",
       "      <th>ceiling_height</th>\n",
       "      <th>floors_total</th>\n",
       "      <th>...</th>\n",
       "      <th>pond_dist</th>\n",
       "      <th>ponds_within_3000</th>\n",
       "      <th>price_per_square</th>\n",
       "      <th>weekday</th>\n",
       "      <th>month</th>\n",
       "      <th>year</th>\n",
       "      <th>floor_type</th>\n",
       "      <th>kitchen_total_ratio</th>\n",
       "      <th>living_total_ratio</th>\n",
       "      <th>is_countryside</th>\n",
       "    </tr>\n",
       "  </thead>\n",
       "  <tbody>\n",
       "    <tr>\n",
       "      <td>0</td>\n",
       "      <td>2019-03-07</td>\n",
       "      <td>NaN</td>\n",
       "      <td>260000</td>\n",
       "      <td>3</td>\n",
       "      <td>25.000000</td>\n",
       "      <td>51.00000</td>\n",
       "      <td>108.0</td>\n",
       "      <td>0</td>\n",
       "      <td>2.70</td>\n",
       "      <td>16</td>\n",
       "      <td>...</td>\n",
       "      <td>755.0</td>\n",
       "      <td>2</td>\n",
       "      <td>2407.407407</td>\n",
       "      <td>3</td>\n",
       "      <td>3</td>\n",
       "      <td>2019</td>\n",
       "      <td>other</td>\n",
       "      <td>0.231481</td>\n",
       "      <td>0.472222</td>\n",
       "      <td>False</td>\n",
       "    </tr>\n",
       "    <tr>\n",
       "      <td>1</td>\n",
       "      <td>2018-12-04</td>\n",
       "      <td>81.0</td>\n",
       "      <td>67000</td>\n",
       "      <td>1</td>\n",
       "      <td>11.000000</td>\n",
       "      <td>18.60000</td>\n",
       "      <td>40.4</td>\n",
       "      <td>2</td>\n",
       "      <td>NaN</td>\n",
       "      <td>11</td>\n",
       "      <td>...</td>\n",
       "      <td>NaN</td>\n",
       "      <td>0</td>\n",
       "      <td>1658.415842</td>\n",
       "      <td>1</td>\n",
       "      <td>12</td>\n",
       "      <td>2018</td>\n",
       "      <td>first</td>\n",
       "      <td>0.272277</td>\n",
       "      <td>0.460396</td>\n",
       "      <td>True</td>\n",
       "    </tr>\n",
       "    <tr>\n",
       "      <td>2</td>\n",
       "      <td>2015-08-20</td>\n",
       "      <td>558.0</td>\n",
       "      <td>103920</td>\n",
       "      <td>2</td>\n",
       "      <td>8.300000</td>\n",
       "      <td>34.30000</td>\n",
       "      <td>56.0</td>\n",
       "      <td>0</td>\n",
       "      <td>NaN</td>\n",
       "      <td>5</td>\n",
       "      <td>...</td>\n",
       "      <td>574.0</td>\n",
       "      <td>2</td>\n",
       "      <td>1855.714286</td>\n",
       "      <td>3</td>\n",
       "      <td>8</td>\n",
       "      <td>2015</td>\n",
       "      <td>other</td>\n",
       "      <td>0.148214</td>\n",
       "      <td>0.612500</td>\n",
       "      <td>False</td>\n",
       "    </tr>\n",
       "    <tr>\n",
       "      <td>3</td>\n",
       "      <td>2015-07-24</td>\n",
       "      <td>424.0</td>\n",
       "      <td>1298000</td>\n",
       "      <td>3</td>\n",
       "      <td>29.792073</td>\n",
       "      <td>89.79525</td>\n",
       "      <td>159.0</td>\n",
       "      <td>0</td>\n",
       "      <td>NaN</td>\n",
       "      <td>14</td>\n",
       "      <td>...</td>\n",
       "      <td>234.0</td>\n",
       "      <td>3</td>\n",
       "      <td>8163.522013</td>\n",
       "      <td>4</td>\n",
       "      <td>7</td>\n",
       "      <td>2015</td>\n",
       "      <td>other</td>\n",
       "      <td>0.187372</td>\n",
       "      <td>0.564750</td>\n",
       "      <td>False</td>\n",
       "    </tr>\n",
       "    <tr>\n",
       "      <td>4</td>\n",
       "      <td>2018-06-19</td>\n",
       "      <td>121.0</td>\n",
       "      <td>200000</td>\n",
       "      <td>2</td>\n",
       "      <td>41.000000</td>\n",
       "      <td>32.00000</td>\n",
       "      <td>100.0</td>\n",
       "      <td>0</td>\n",
       "      <td>3.03</td>\n",
       "      <td>14</td>\n",
       "      <td>...</td>\n",
       "      <td>48.0</td>\n",
       "      <td>1</td>\n",
       "      <td>2000.000000</td>\n",
       "      <td>1</td>\n",
       "      <td>6</td>\n",
       "      <td>2018</td>\n",
       "      <td>other</td>\n",
       "      <td>0.410000</td>\n",
       "      <td>0.320000</td>\n",
       "      <td>False</td>\n",
       "    </tr>\n",
       "  </tbody>\n",
       "</table>\n",
       "<p>5 rows × 30 columns</p>\n",
       "</div>"
      ],
      "text/plain": [
       "  date_posted  days_listed  last_price  bedrooms  kitchen_area  living_area  \\\n",
       "0  2019-03-07          NaN      260000         3     25.000000     51.00000   \n",
       "1  2018-12-04         81.0       67000         1     11.000000     18.60000   \n",
       "2  2015-08-20        558.0      103920         2      8.300000     34.30000   \n",
       "3  2015-07-24        424.0     1298000         3     29.792073     89.79525   \n",
       "4  2018-06-19        121.0      200000         2     41.000000     32.00000   \n",
       "\n",
       "   total_area  balconies  ceiling_height  floors_total  ...  pond_dist  \\\n",
       "0       108.0          0            2.70            16  ...      755.0   \n",
       "1        40.4          2             NaN            11  ...        NaN   \n",
       "2        56.0          0             NaN             5  ...      574.0   \n",
       "3       159.0          0             NaN            14  ...      234.0   \n",
       "4       100.0          0            3.03            14  ...       48.0   \n",
       "\n",
       "   ponds_within_3000  price_per_square  weekday  month  year  floor_type  \\\n",
       "0                  2       2407.407407        3      3  2019       other   \n",
       "1                  0       1658.415842        1     12  2018       first   \n",
       "2                  2       1855.714286        3      8  2015       other   \n",
       "3                  3       8163.522013        4      7  2015       other   \n",
       "4                  1       2000.000000        1      6  2018       other   \n",
       "\n",
       "   kitchen_total_ratio  living_total_ratio  is_countryside  \n",
       "0             0.231481            0.472222           False  \n",
       "1             0.272277            0.460396            True  \n",
       "2             0.148214            0.612500           False  \n",
       "3             0.187372            0.564750           False  \n",
       "4             0.410000            0.320000           False  \n",
       "\n",
       "[5 rows x 30 columns]"
      ]
     },
     "execution_count": 126,
     "metadata": {},
     "output_type": "execute_result"
    }
   ],
   "source": [
    "top10_df = df.query('locality_name in @top10_localities.index')\n",
    "top10_df.head()"
   ]
  },
  {
   "cell_type": "code",
   "execution_count": 127,
   "metadata": {},
   "outputs": [],
   "source": [
    "top10_pivot = top10_df.pivot_table(index='locality_name', values=['last_price'], aggfunc=['min', 'max'])"
   ]
  },
  {
   "cell_type": "code",
   "execution_count": 128,
   "metadata": {},
   "outputs": [],
   "source": [
    "top10_pivot.columns = ['min_price', 'max_price']"
   ]
  },
  {
   "cell_type": "code",
   "execution_count": 129,
   "metadata": {},
   "outputs": [
    {
     "name": "stdout",
     "output_type": "stream",
     "text": [
      "The lowest price is in: Vyborg\n"
     ]
    }
   ],
   "source": [
    "lowest_price = top10_pivot.sort_values('min_price', ascending=True).reset_index().loc[0, 'locality_name']\n",
    "print('The lowest price is in: {}'.format(lowest_price))"
   ]
  },
  {
   "cell_type": "code",
   "execution_count": 130,
   "metadata": {},
   "outputs": [
    {
     "name": "stdout",
     "output_type": "stream",
     "text": [
      "The highest price is in: Saint Petersburg\n"
     ]
    }
   ],
   "source": [
    "highest_price = top10_pivot.sort_values('max_price', ascending=False).reset_index().loc[0, 'locality_name']\n",
    "print('The highest price is in: {}'.format(highest_price))"
   ]
  },
  {
   "cell_type": "markdown",
   "metadata": {},
   "source": [
    "### Determine the center of the city"
   ]
  },
  {
   "cell_type": "code",
   "execution_count": 131,
   "metadata": {
    "scrolled": true
   },
   "outputs": [
    {
     "data": {
      "text/html": [
       "<div>\n",
       "<style scoped>\n",
       "    .dataframe tbody tr th:only-of-type {\n",
       "        vertical-align: middle;\n",
       "    }\n",
       "\n",
       "    .dataframe tbody tr th {\n",
       "        vertical-align: top;\n",
       "    }\n",
       "\n",
       "    .dataframe thead th {\n",
       "        text-align: right;\n",
       "    }\n",
       "</style>\n",
       "<table border=\"1\" class=\"dataframe\">\n",
       "  <thead>\n",
       "    <tr style=\"text-align: right;\">\n",
       "      <th></th>\n",
       "      <th>date_posted</th>\n",
       "      <th>days_listed</th>\n",
       "      <th>last_price</th>\n",
       "      <th>bedrooms</th>\n",
       "      <th>kitchen_area</th>\n",
       "      <th>living_area</th>\n",
       "      <th>total_area</th>\n",
       "      <th>balconies</th>\n",
       "      <th>ceiling_height</th>\n",
       "      <th>floors_total</th>\n",
       "      <th>...</th>\n",
       "      <th>pond_dist</th>\n",
       "      <th>ponds_within_3000</th>\n",
       "      <th>price_per_square</th>\n",
       "      <th>weekday</th>\n",
       "      <th>month</th>\n",
       "      <th>year</th>\n",
       "      <th>floor_type</th>\n",
       "      <th>kitchen_total_ratio</th>\n",
       "      <th>living_total_ratio</th>\n",
       "      <th>is_countryside</th>\n",
       "    </tr>\n",
       "  </thead>\n",
       "  <tbody>\n",
       "    <tr>\n",
       "      <td>0</td>\n",
       "      <td>2019-03-07</td>\n",
       "      <td>NaN</td>\n",
       "      <td>260000</td>\n",
       "      <td>3</td>\n",
       "      <td>25.000000</td>\n",
       "      <td>51.00000</td>\n",
       "      <td>108.0</td>\n",
       "      <td>0</td>\n",
       "      <td>2.70</td>\n",
       "      <td>16</td>\n",
       "      <td>...</td>\n",
       "      <td>755.0</td>\n",
       "      <td>2</td>\n",
       "      <td>2407.407407</td>\n",
       "      <td>3</td>\n",
       "      <td>3</td>\n",
       "      <td>2019</td>\n",
       "      <td>other</td>\n",
       "      <td>0.231481</td>\n",
       "      <td>0.472222</td>\n",
       "      <td>False</td>\n",
       "    </tr>\n",
       "    <tr>\n",
       "      <td>2</td>\n",
       "      <td>2015-08-20</td>\n",
       "      <td>558.0</td>\n",
       "      <td>103920</td>\n",
       "      <td>2</td>\n",
       "      <td>8.300000</td>\n",
       "      <td>34.30000</td>\n",
       "      <td>56.0</td>\n",
       "      <td>0</td>\n",
       "      <td>NaN</td>\n",
       "      <td>5</td>\n",
       "      <td>...</td>\n",
       "      <td>574.0</td>\n",
       "      <td>2</td>\n",
       "      <td>1855.714286</td>\n",
       "      <td>3</td>\n",
       "      <td>8</td>\n",
       "      <td>2015</td>\n",
       "      <td>other</td>\n",
       "      <td>0.148214</td>\n",
       "      <td>0.612500</td>\n",
       "      <td>False</td>\n",
       "    </tr>\n",
       "    <tr>\n",
       "      <td>3</td>\n",
       "      <td>2015-07-24</td>\n",
       "      <td>424.0</td>\n",
       "      <td>1298000</td>\n",
       "      <td>3</td>\n",
       "      <td>29.792073</td>\n",
       "      <td>89.79525</td>\n",
       "      <td>159.0</td>\n",
       "      <td>0</td>\n",
       "      <td>NaN</td>\n",
       "      <td>14</td>\n",
       "      <td>...</td>\n",
       "      <td>234.0</td>\n",
       "      <td>3</td>\n",
       "      <td>8163.522013</td>\n",
       "      <td>4</td>\n",
       "      <td>7</td>\n",
       "      <td>2015</td>\n",
       "      <td>other</td>\n",
       "      <td>0.187372</td>\n",
       "      <td>0.564750</td>\n",
       "      <td>False</td>\n",
       "    </tr>\n",
       "    <tr>\n",
       "      <td>4</td>\n",
       "      <td>2018-06-19</td>\n",
       "      <td>121.0</td>\n",
       "      <td>200000</td>\n",
       "      <td>2</td>\n",
       "      <td>41.000000</td>\n",
       "      <td>32.00000</td>\n",
       "      <td>100.0</td>\n",
       "      <td>0</td>\n",
       "      <td>3.03</td>\n",
       "      <td>14</td>\n",
       "      <td>...</td>\n",
       "      <td>48.0</td>\n",
       "      <td>1</td>\n",
       "      <td>2000.000000</td>\n",
       "      <td>1</td>\n",
       "      <td>6</td>\n",
       "      <td>2018</td>\n",
       "      <td>other</td>\n",
       "      <td>0.410000</td>\n",
       "      <td>0.320000</td>\n",
       "      <td>False</td>\n",
       "    </tr>\n",
       "    <tr>\n",
       "      <td>7</td>\n",
       "      <td>2019-04-18</td>\n",
       "      <td>NaN</td>\n",
       "      <td>158300</td>\n",
       "      <td>2</td>\n",
       "      <td>18.900000</td>\n",
       "      <td>40.43610</td>\n",
       "      <td>71.6</td>\n",
       "      <td>2</td>\n",
       "      <td>NaN</td>\n",
       "      <td>24</td>\n",
       "      <td>...</td>\n",
       "      <td>NaN</td>\n",
       "      <td>0</td>\n",
       "      <td>2210.893855</td>\n",
       "      <td>3</td>\n",
       "      <td>4</td>\n",
       "      <td>2019</td>\n",
       "      <td>other</td>\n",
       "      <td>0.263966</td>\n",
       "      <td>0.564750</td>\n",
       "      <td>False</td>\n",
       "    </tr>\n",
       "  </tbody>\n",
       "</table>\n",
       "<p>5 rows × 30 columns</p>\n",
       "</div>"
      ],
      "text/plain": [
       "  date_posted  days_listed  last_price  bedrooms  kitchen_area  living_area  \\\n",
       "0  2019-03-07          NaN      260000         3     25.000000     51.00000   \n",
       "2  2015-08-20        558.0      103920         2      8.300000     34.30000   \n",
       "3  2015-07-24        424.0     1298000         3     29.792073     89.79525   \n",
       "4  2018-06-19        121.0      200000         2     41.000000     32.00000   \n",
       "7  2019-04-18          NaN      158300         2     18.900000     40.43610   \n",
       "\n",
       "   total_area  balconies  ceiling_height  floors_total  ...  pond_dist  \\\n",
       "0       108.0          0            2.70            16  ...      755.0   \n",
       "2        56.0          0             NaN             5  ...      574.0   \n",
       "3       159.0          0             NaN            14  ...      234.0   \n",
       "4       100.0          0            3.03            14  ...       48.0   \n",
       "7        71.6          2             NaN            24  ...        NaN   \n",
       "\n",
       "   ponds_within_3000  price_per_square  weekday  month  year  floor_type  \\\n",
       "0                  2       2407.407407        3      3  2019       other   \n",
       "2                  2       1855.714286        3      8  2015       other   \n",
       "3                  3       8163.522013        4      7  2015       other   \n",
       "4                  1       2000.000000        1      6  2018       other   \n",
       "7                  0       2210.893855        3      4  2019       other   \n",
       "\n",
       "   kitchen_total_ratio  living_total_ratio  is_countryside  \n",
       "0             0.231481            0.472222           False  \n",
       "2             0.148214            0.612500           False  \n",
       "3             0.187372            0.564750           False  \n",
       "4             0.410000            0.320000           False  \n",
       "7             0.263966            0.564750           False  \n",
       "\n",
       "[5 rows x 30 columns]"
      ]
     },
     "execution_count": 131,
     "metadata": {},
     "output_type": "execute_result"
    }
   ],
   "source": [
    "spb_df = df.query('locality_name == \"Saint Petersburg\"').copy()\n",
    "spb_df.head()"
   ]
  },
  {
   "cell_type": "code",
   "execution_count": 132,
   "metadata": {},
   "outputs": [],
   "source": [
    "spb_df['city_center_dist_km'] = (spb_df['city_center_dist'] / 1000).round(0)"
   ]
  },
  {
   "cell_type": "code",
   "execution_count": 133,
   "metadata": {
    "scrolled": true
   },
   "outputs": [
    {
     "name": "stdout",
     "output_type": "stream",
     "text": [
      "The average km price: 25174.41196328094\n"
     ]
    }
   ],
   "source": [
    "average_km_price = (spb_df['last_price'] / spb_df['city_center_dist_km']).mean()\n",
    "print('The average km price: {}'.format(average_km_price))"
   ]
  },
  {
   "cell_type": "code",
   "execution_count": 134,
   "metadata": {},
   "outputs": [
    {
     "data": {
      "text/plain": [
       "<matplotlib.axes._subplots.AxesSubplot at 0x7fc9c9aac650>"
      ]
     },
     "execution_count": 134,
     "metadata": {},
     "output_type": "execute_result"
    },
    {
     "data": {
      "image/png": "[encoded data removed]",
      "text/plain": [
       "<Figure size 432x288 with 1 Axes>"
      ]
     },
     "metadata": {
      "needs_background": "light"
     },
     "output_type": "display_data"
    }
   ],
   "source": [
    "spb_df.plot(x='city_center_dist_km', y='last_price', kind='scatter')"
   ]
  },
  {
   "cell_type": "markdown",
   "metadata": {},
   "source": [
    "The city center border is about 7 kms"
   ]
  },
  {
   "cell_type": "code",
   "execution_count": 136,
   "metadata": {},
   "outputs": [],
   "source": [
    "spb_center_df = spb_df.query('city_center_dist_km <= 7')"
   ]
  },
  {
   "cell_type": "code",
   "execution_count": 137,
   "metadata": {
    "scrolled": true
   },
   "outputs": [
    {
     "name": "stdout",
     "output_type": "stream",
     "text": [
      "<class 'pandas.core.frame.DataFrame'>\n",
      "Int64Index: 3280 entries, 3 to 23557\n",
      "Data columns (total 31 columns):\n",
      "date_posted            3280 non-null datetime64[ns]\n",
      "days_listed            2753 non-null float64\n",
      "last_price             3259 non-null Int64\n",
      "bedrooms               3280 non-null int64\n",
      "kitchen_area           3280 non-null float64\n",
      "living_area            3280 non-null float64\n",
      "total_area             3280 non-null float64\n",
      "balconies              3280 non-null Int64\n",
      "ceiling_height         2049 non-null float64\n",
      "floors_total           3280 non-null Int64\n",
      "floor                  3280 non-null int64\n",
      "total_images           3280 non-null int64\n",
      "bike_parking           3280 non-null bool\n",
      "is_studio              3280 non-null bool\n",
      "is_open_plan           3280 non-null bool\n",
      "locality_name          3280 non-null object\n",
      "airport_dist           3277 non-null float64\n",
      "city_center_dist       3280 non-null float64\n",
      "park_dist              2159 non-null float64\n",
      "parks_within_3000      3280 non-null Int64\n",
      "pond_dist              2368 non-null float64\n",
      "ponds_within_3000      3280 non-null Int64\n",
      "price_per_square       3280 non-null float64\n",
      "weekday                3280 non-null int64\n",
      "month                  3280 non-null int64\n",
      "year                   3280 non-null int64\n",
      "floor_type             3280 non-null object\n",
      "kitchen_total_ratio    3280 non-null float64\n",
      "living_total_ratio     3280 non-null float64\n",
      "is_countryside         3280 non-null bool\n",
      "city_center_dist_km    3280 non-null float64\n",
      "dtypes: Int64(5), bool(4), datetime64[ns](1), float64(13), int64(6), object(2)\n",
      "memory usage: 746.3+ KB\n"
     ]
    }
   ],
   "source": [
    "spb_center_df.info()"
   ]
  },
  {
   "cell_type": "markdown",
   "metadata": {},
   "source": [
    "Select all the apartments in the city center and examine correlations between the following parameters: total area, price, number of rooms, ceiling height. Also identify the factors that affect an apartment’s price: number of rooms, floor, distance to the city center, and ad publication date. Draw your conclusions. Are they different from the overall deductions about the entire city?"
   ]
  },
  {
   "cell_type": "code",
   "execution_count": 138,
   "metadata": {},
   "outputs": [
    {
     "data": {
      "text/html": [
       "<div>\n",
       "<style scoped>\n",
       "    .dataframe tbody tr th:only-of-type {\n",
       "        vertical-align: middle;\n",
       "    }\n",
       "\n",
       "    .dataframe tbody tr th {\n",
       "        vertical-align: top;\n",
       "    }\n",
       "\n",
       "    .dataframe thead th {\n",
       "        text-align: right;\n",
       "    }\n",
       "</style>\n",
       "<table border=\"1\" class=\"dataframe\">\n",
       "  <thead>\n",
       "    <tr style=\"text-align: right;\">\n",
       "      <th></th>\n",
       "      <th>last_price</th>\n",
       "      <th>total_area</th>\n",
       "      <th>bedrooms</th>\n",
       "      <th>ceiling_height</th>\n",
       "    </tr>\n",
       "  </thead>\n",
       "  <tbody>\n",
       "    <tr>\n",
       "      <td>last_price</td>\n",
       "      <td>1.000000</td>\n",
       "      <td>0.594733</td>\n",
       "      <td>0.299061</td>\n",
       "      <td>0.188624</td>\n",
       "    </tr>\n",
       "    <tr>\n",
       "      <td>total_area</td>\n",
       "      <td>0.594733</td>\n",
       "      <td>1.000000</td>\n",
       "      <td>0.731209</td>\n",
       "      <td>0.311674</td>\n",
       "    </tr>\n",
       "    <tr>\n",
       "      <td>bedrooms</td>\n",
       "      <td>0.299061</td>\n",
       "      <td>0.731209</td>\n",
       "      <td>1.000000</td>\n",
       "      <td>0.315242</td>\n",
       "    </tr>\n",
       "    <tr>\n",
       "      <td>ceiling_height</td>\n",
       "      <td>0.188624</td>\n",
       "      <td>0.311674</td>\n",
       "      <td>0.315242</td>\n",
       "      <td>1.000000</td>\n",
       "    </tr>\n",
       "  </tbody>\n",
       "</table>\n",
       "</div>"
      ],
      "text/plain": [
       "                last_price  total_area  bedrooms  ceiling_height\n",
       "last_price        1.000000    0.594733  0.299061        0.188624\n",
       "total_area        0.594733    1.000000  0.731209        0.311674\n",
       "bedrooms          0.299061    0.731209  1.000000        0.315242\n",
       "ceiling_height    0.188624    0.311674  0.315242        1.000000"
      ]
     },
     "execution_count": 138,
     "metadata": {},
     "output_type": "execute_result"
    }
   ],
   "source": [
    "interesting_columns = ['last_price', 'total_area', 'bedrooms', 'ceiling_height']\n",
    "\n",
    "spb_center_df[interesting_columns].corr()"
   ]
  },
  {
   "cell_type": "code",
   "execution_count": 139,
   "metadata": {},
   "outputs": [
    {
     "data": {
      "text/html": [
       "<div>\n",
       "<style scoped>\n",
       "    .dataframe tbody tr th:only-of-type {\n",
       "        vertical-align: middle;\n",
       "    }\n",
       "\n",
       "    .dataframe tbody tr th {\n",
       "        vertical-align: top;\n",
       "    }\n",
       "\n",
       "    .dataframe thead th {\n",
       "        text-align: right;\n",
       "    }\n",
       "</style>\n",
       "<table border=\"1\" class=\"dataframe\">\n",
       "  <thead>\n",
       "    <tr style=\"text-align: right;\">\n",
       "      <th></th>\n",
       "      <th>last_price</th>\n",
       "      <th>total_area</th>\n",
       "      <th>bedrooms</th>\n",
       "      <th>ceiling_height</th>\n",
       "    </tr>\n",
       "  </thead>\n",
       "  <tbody>\n",
       "    <tr>\n",
       "      <td>last_price</td>\n",
       "      <td>1.000000</td>\n",
       "      <td>0.620932</td>\n",
       "      <td>0.340949</td>\n",
       "      <td>0.386103</td>\n",
       "    </tr>\n",
       "    <tr>\n",
       "      <td>total_area</td>\n",
       "      <td>0.620932</td>\n",
       "      <td>1.000000</td>\n",
       "      <td>0.758666</td>\n",
       "      <td>0.464357</td>\n",
       "    </tr>\n",
       "    <tr>\n",
       "      <td>bedrooms</td>\n",
       "      <td>0.340949</td>\n",
       "      <td>0.758666</td>\n",
       "      <td>1.000000</td>\n",
       "      <td>0.269949</td>\n",
       "    </tr>\n",
       "    <tr>\n",
       "      <td>ceiling_height</td>\n",
       "      <td>0.386103</td>\n",
       "      <td>0.464357</td>\n",
       "      <td>0.269949</td>\n",
       "      <td>1.000000</td>\n",
       "    </tr>\n",
       "  </tbody>\n",
       "</table>\n",
       "</div>"
      ],
      "text/plain": [
       "                last_price  total_area  bedrooms  ceiling_height\n",
       "last_price        1.000000    0.620932  0.340949        0.386103\n",
       "total_area        0.620932    1.000000  0.758666        0.464357\n",
       "bedrooms          0.340949    0.758666  1.000000        0.269949\n",
       "ceiling_height    0.386103    0.464357  0.269949        1.000000"
      ]
     },
     "execution_count": 139,
     "metadata": {},
     "output_type": "execute_result"
    }
   ],
   "source": [
    "# Let's compare it with whole dataset\n",
    "df[interesting_columns].corr()"
   ]
  },
  {
   "cell_type": "markdown",
   "metadata": {},
   "source": [
    "It seems like the total_area, number of bedrooms and the ceiling height don't influence so much at the price. The most influence is from city_center_dist"
   ]
  },
  {
   "cell_type": "code",
   "execution_count": 140,
   "metadata": {},
   "outputs": [],
   "source": [
    "numerical_columns = ['city_center_dist_km']\n",
    "categorical_columns = ['floor_type']\n",
    "datetime_columns = ['weekday', 'month', 'year']"
   ]
  },
  {
   "cell_type": "code",
   "execution_count": 141,
   "metadata": {
    "scrolled": true
   },
   "outputs": [
    {
     "data": {
      "image/png": "[encoded data removed]",
      "text/plain": [
       "<Figure size 432x288 with 1 Axes>"
      ]
     },
     "metadata": {
      "needs_background": "light"
     },
     "output_type": "display_data"
    }
   ],
   "source": [
    "scatter_plots(spb_center_df, 'last_price', numerical_columns)"
   ]
  },
  {
   "cell_type": "code",
   "execution_count": 142,
   "metadata": {
    "scrolled": true
   },
   "outputs": [
    {
     "data": {
      "text/plain": [
       "<matplotlib.axes._subplots.AxesSubplot at 0x7fc9c9982150>"
      ]
     },
     "execution_count": 142,
     "metadata": {},
     "output_type": "execute_result"
    },
    {
     "data": {
      "image/png": "[encoded data removed]",
      "text/plain": [
       "<Figure size 432x288 with 1 Axes>"
      ]
     },
     "metadata": {
      "needs_background": "light"
     },
     "output_type": "display_data"
    }
   ],
   "source": [
    "fig, ax = plt.subplots()\n",
    "ax.set_ylim(0, 150000)\n",
    "df.boxplot(column='last_price', by='floor_type', ax=ax)"
   ]
  },
  {
   "cell_type": "code",
   "execution_count": 143,
   "metadata": {},
   "outputs": [
    {
     "data": {
      "image/png": "[encoded data removed]",
      "text/plain": [
       "<Figure size 1332x756 with 1 Axes>"
      ]
     },
     "metadata": {
      "needs_background": "light"
     },
     "output_type": "display_data"
    },
    {
     "data": {
      "image/png": "[encoded data removed]",
      "text/plain": [
       "<Figure size 1332x756 with 1 Axes>"
      ]
     },
     "metadata": {
      "needs_background": "light"
     },
     "output_type": "display_data"
    },
    {
     "data": {
      "image/png": "[encoded data removed]",
      "text/plain": [
       "<Figure size 1332x756 with 1 Axes>"
      ]
     },
     "metadata": {
      "needs_background": "light"
     },
     "output_type": "display_data"
    }
   ],
   "source": [
    "for column in datetime_columns:\n",
    "    fig, ax = plt.subplots()\n",
    "    ax.set_ylim(0, 150000)\n",
    "    fig.set_size_inches(18.5, 10.5, forward=True)\n",
    "    df.boxplot(column='last_price', by=column, ax=ax)"
   ]
  },
  {
   "cell_type": "markdown",
   "metadata": {},
   "source": [
    "It seems that the city center distance is not so simple parameter. The most expensive apartments are in the 5 km from the city center. \n",
    "\n",
    "The flats right in the cented are cheaper.\n",
    "\n",
    "the floor_type is without changes\n",
    "\n",
    "the weekday and year is without changes\n",
    "the month peaks shifted from February and August to April and September"
   ]
  },
  {
   "cell_type": "markdown",
   "metadata": {},
   "source": [
    "### Step 5. Overall conclusion"
   ]
  },
  {
   "cell_type": "markdown",
   "metadata": {},
   "source": [
    "### We examine the most valuable feature to estimate a real estate price:\n",
    "\n",
    "Accordingly to scatter plots and correlation coefficients:\n",
    "\n",
    "1. total_area\n",
    "2. bedrooms\n",
    "3. ceiling_height\n",
    "4. floor_type\n",
    "5. city_center_dist\n",
    "6. locality_name\n",
    "7. year\n",
    "8. month\n",
    "9. weekday"
   ]
  }
 ],
 "metadata": {
  "kernelspec": {
   "display_name": "Python 3",
   "language": "python",
   "name": "python3"
  },
  "language_info": {
   "codemirror_mode": {
    "name": "ipython",
    "version": 3
   },
   "file_extension": ".py",
   "mimetype": "text/x-python",
   "name": "python",
   "nbconvert_exporter": "python",
   "pygments_lexer": "ipython3",
   "version": "3.8.2"
  }
 },
 "nbformat": 4,
 "nbformat_minor": 2
}
